{
 "cells": [
  {
   "cell_type": "markdown",
   "metadata": {},
   "source": [
    "# Report for Transaction-Receipt Matcher Task"
   ]
  },
  {
   "cell_type": "code",
   "execution_count": 85,
   "metadata": {
    "_cell_guid": "b1076dfc-b9ad-4769-8c92-a6c4dae69d19",
    "_uuid": "8f2839f25d086af736a60e9eeb907d3b93b6e0e5",
    "jupyter": {
     "source_hidden": true
    }
   },
   "outputs": [
    {
     "data": {
      "text/html": [
       "        <script type=\"text/javascript\">\n",
       "        window.PlotlyConfig = {MathJaxConfig: 'local'};\n",
       "        if (window.MathJax) {MathJax.Hub.Config({SVG: {font: \"STIX-Web\"}});}\n",
       "        if (typeof require !== 'undefined') {\n",
       "        require.undef(\"plotly\");\n",
       "        requirejs.config({\n",
       "            paths: {\n",
       "                'plotly': ['https://cdn.plot.ly/plotly-latest.min']\n",
       "            }\n",
       "        });\n",
       "        require(['plotly'], function(Plotly) {\n",
       "            window._Plotly = Plotly;\n",
       "        });\n",
       "        }\n",
       "        </script>\n",
       "        "
      ]
     },
     "metadata": {},
     "output_type": "display_data"
    }
   ],
   "source": [
    "import cupy as cp # linear algebra\n",
    "import cudf # data processing, CSV file I/O (e.g. cudf.read_csv)\n",
    "from cuml.preprocessing.model_selection import train_test_split\n",
    "from cuml.metrics import roc_auc_score, confusion_matrix, precision_recall_curve\n",
    "from cuml.preprocessing.LabelEncoder import LabelEncoder\n",
    "\n",
    "from sklearn.metrics import classification_report, plot_confusion_matrix\n",
    "from sklearn.model_selection import train_test_split as sktrain_test_split\n",
    "import sklearn\n",
    "from random import shuffle\n",
    "import numpy as np # linear algebra\n",
    "import pandas as pd # data processing, CSV file I/O (e.g. pd.read_csv)\n",
    "import matplotlib.pyplot as plt\n",
    "import xgboost\n",
    "from cupy import asnumpy\n",
    "\n",
    "from ray.tune.schedulers import ASHAScheduler\n",
    "from ray import tune\n",
    "from ray.tune.integration.xgboost import TuneReportCheckpointCallback\n",
    "\n",
    "\n",
    "import scipy as sp\n",
    "from scipy import stats\n",
    "import matplotlib.pyplot as plt\n",
    "import seaborn as sns\n",
    "import os\n",
    "import pprint\n",
    "\n",
    "# Standard plotly imports\n",
    "#import plotly.plotly as py\n",
    "import plotly.graph_objs as go\n",
    "import plotly.tools as tls\n",
    "from plotly.offline import iplot, init_notebook_mode\n",
    "#import cufflinks\n",
    "#import cufflinks as cf\n",
    "import plotly.figure_factory as ff\n",
    "\n",
    "# Using plotly + cufflinks in offline mode\n",
    "init_notebook_mode(connected=True)"
   ]
  },
  {
   "cell_type": "markdown",
   "metadata": {},
   "source": [
    "### **Preview dataset** <a class=\"anchor\" id=\"4.3.2\"></a> "
   ]
  },
  {
   "cell_type": "code",
   "execution_count": 98,
   "metadata": {
    "jupyter": {
     "source_hidden": true
    }
   },
   "outputs": [
    {
     "data": {
      "text/html": [
       "<div>\n",
       "<style scoped>\n",
       "    .dataframe tbody tr th:only-of-type {\n",
       "        vertical-align: middle;\n",
       "    }\n",
       "\n",
       "    .dataframe tbody tr th {\n",
       "        vertical-align: top;\n",
       "    }\n",
       "\n",
       "    .dataframe thead th {\n",
       "        text-align: right;\n",
       "    }\n",
       "</style>\n",
       "<table border=\"1\" class=\"dataframe\">\n",
       "  <thead>\n",
       "    <tr style=\"text-align: right;\">\n",
       "      <th></th>\n",
       "      <th>receipt_id</th>\n",
       "      <th>company_id</th>\n",
       "      <th>matched_transaction_id</th>\n",
       "      <th>feature_transaction_id</th>\n",
       "      <th>DateMappingMatch</th>\n",
       "      <th>AmountMappingMatch</th>\n",
       "      <th>DescriptionMatch</th>\n",
       "      <th>DifferentPredictedTime</th>\n",
       "      <th>TimeMappingMatch</th>\n",
       "      <th>PredictedNameMatch</th>\n",
       "      <th>ShortNameMatch</th>\n",
       "      <th>DifferentPredictedDate</th>\n",
       "      <th>PredictedAmountMatch</th>\n",
       "      <th>PredictedTimeCloseMatch</th>\n",
       "    </tr>\n",
       "  </thead>\n",
       "  <tbody>\n",
       "    <tr>\n",
       "      <th>0</th>\n",
       "      <td>10,000</td>\n",
       "      <td>10000</td>\n",
       "      <td>10,468</td>\n",
       "      <td>10,000</td>\n",
       "      <td>0.0</td>\n",
       "      <td>0.0</td>\n",
       "      <td>0.0</td>\n",
       "      <td>1.0</td>\n",
       "      <td>0.0</td>\n",
       "      <td>0.0</td>\n",
       "      <td>0.0</td>\n",
       "      <td>1.0</td>\n",
       "      <td>0.0</td>\n",
       "      <td>0.0</td>\n",
       "    </tr>\n",
       "    <tr>\n",
       "      <th>1</th>\n",
       "      <td>10,000</td>\n",
       "      <td>10000</td>\n",
       "      <td>10,468</td>\n",
       "      <td>10,001</td>\n",
       "      <td>0.0</td>\n",
       "      <td>0.0</td>\n",
       "      <td>0.0</td>\n",
       "      <td>1.0</td>\n",
       "      <td>0.0</td>\n",
       "      <td>0.0</td>\n",
       "      <td>0.0</td>\n",
       "      <td>1.0</td>\n",
       "      <td>0.0</td>\n",
       "      <td>0.0</td>\n",
       "    </tr>\n",
       "    <tr>\n",
       "      <th>2</th>\n",
       "      <td>10,000</td>\n",
       "      <td>10000</td>\n",
       "      <td>10,468</td>\n",
       "      <td>10,003</td>\n",
       "      <td>0.0</td>\n",
       "      <td>0.0</td>\n",
       "      <td>0.0</td>\n",
       "      <td>1.0</td>\n",
       "      <td>0.0</td>\n",
       "      <td>0.0</td>\n",
       "      <td>0.0</td>\n",
       "      <td>1.0</td>\n",
       "      <td>0.0</td>\n",
       "      <td>0.0</td>\n",
       "    </tr>\n",
       "    <tr>\n",
       "      <th>3</th>\n",
       "      <td>10,000</td>\n",
       "      <td>10000</td>\n",
       "      <td>10,468</td>\n",
       "      <td>10,004</td>\n",
       "      <td>0.0</td>\n",
       "      <td>0.0</td>\n",
       "      <td>0.0</td>\n",
       "      <td>1.0</td>\n",
       "      <td>0.0</td>\n",
       "      <td>0.0</td>\n",
       "      <td>0.0</td>\n",
       "      <td>1.0</td>\n",
       "      <td>0.0</td>\n",
       "      <td>0.0</td>\n",
       "    </tr>\n",
       "    <tr>\n",
       "      <th>4</th>\n",
       "      <td>10,000</td>\n",
       "      <td>10000</td>\n",
       "      <td>10,468</td>\n",
       "      <td>10,005</td>\n",
       "      <td>0.0</td>\n",
       "      <td>0.0</td>\n",
       "      <td>0.0</td>\n",
       "      <td>1.0</td>\n",
       "      <td>0.0</td>\n",
       "      <td>0.0</td>\n",
       "      <td>0.0</td>\n",
       "      <td>1.0</td>\n",
       "      <td>0.0</td>\n",
       "      <td>0.0</td>\n",
       "    </tr>\n",
       "  </tbody>\n",
       "</table>\n",
       "</div>"
      ],
      "text/plain": [
       "  receipt_id  company_id matched_transaction_id feature_transaction_id  \\\n",
       "0     10,000       10000                 10,468                 10,000   \n",
       "1     10,000       10000                 10,468                 10,001   \n",
       "2     10,000       10000                 10,468                 10,003   \n",
       "3     10,000       10000                 10,468                 10,004   \n",
       "4     10,000       10000                 10,468                 10,005   \n",
       "\n",
       "   DateMappingMatch  AmountMappingMatch  DescriptionMatch  \\\n",
       "0               0.0                 0.0               0.0   \n",
       "1               0.0                 0.0               0.0   \n",
       "2               0.0                 0.0               0.0   \n",
       "3               0.0                 0.0               0.0   \n",
       "4               0.0                 0.0               0.0   \n",
       "\n",
       "   DifferentPredictedTime  TimeMappingMatch  PredictedNameMatch  \\\n",
       "0                     1.0               0.0                 0.0   \n",
       "1                     1.0               0.0                 0.0   \n",
       "2                     1.0               0.0                 0.0   \n",
       "3                     1.0               0.0                 0.0   \n",
       "4                     1.0               0.0                 0.0   \n",
       "\n",
       "   ShortNameMatch  DifferentPredictedDate  PredictedAmountMatch  \\\n",
       "0             0.0                     1.0                   0.0   \n",
       "1             0.0                     1.0                   0.0   \n",
       "2             0.0                     1.0                   0.0   \n",
       "3             0.0                     1.0                   0.0   \n",
       "4             0.0                     1.0                   0.0   \n",
       "\n",
       "   PredictedTimeCloseMatch  \n",
       "0                      0.0  \n",
       "1                      0.0  \n",
       "2                      0.0  \n",
       "3                      0.0  \n",
       "4                      0.0  "
      ]
     },
     "execution_count": 98,
     "metadata": {},
     "output_type": "execute_result"
    }
   ],
   "source": [
    "data = cudf.read_csv('/kaggle/input/tide-data/data_interview_test (1).csv',sep=\":\")\n",
    "\n",
    "pdf = pd.read_csv('/kaggle/input/tide-data/data_interview_test (1).csv',sep=\":\")\n",
    "data.head()"
   ]
  },
  {
   "cell_type": "markdown",
   "metadata": {},
   "source": [
    "### Shape of dataset"
   ]
  },
  {
   "cell_type": "code",
   "execution_count": 6,
   "metadata": {
    "jupyter": {
     "source_hidden": true
    }
   },
   "outputs": [
    {
     "data": {
      "text/plain": [
       "(12034, 14)"
      ]
     },
     "execution_count": 6,
     "metadata": {},
     "output_type": "execute_result"
    }
   ],
   "source": [
    "data.shape"
   ]
  },
  {
   "cell_type": "markdown",
   "metadata": {},
   "source": [
    "We have total 12034 samples and each have mathcing feature vector of size of 10"
   ]
  },
  {
   "cell_type": "markdown",
   "metadata": {},
   "source": [
    "### Create labels \n",
    "- Transaction and Receipt are correct matches where matched_transaction_id = feature_transaction_id\n",
    "- We create a column for the labels using above condition"
   ]
  },
  {
   "cell_type": "code",
   "execution_count": 63,
   "metadata": {
    "jupyter": {
     "source_hidden": true
    }
   },
   "outputs": [],
   "source": [
    "data['label']= (data.matched_transaction_id == data.feature_transaction_id).astype(int)\n",
    "pdf['label'] = (pdf.matched_transaction_id == pdf.feature_transaction_id).astype(int)"
   ]
  },
  {
   "cell_type": "markdown",
   "metadata": {},
   "source": [
    "### Let's check the distribution of label ( or correct vs wrong matches)"
   ]
  },
  {
   "cell_type": "code",
   "execution_count": 22,
   "metadata": {
    "jupyter": {
     "source_hidden": true
    }
   },
   "outputs": [
    {
     "name": "stdout",
     "output_type": "stream",
     "text": [
      "0    11177\n",
      "1      857\n",
      "Name: label, dtype: int64\n"
     ]
    },
    {
     "data": {
      "image/png": "[encoded data removed]",
      "text/plain": [
       "<Figure size 432x288 with 1 Axes>"
      ]
     },
     "metadata": {
      "needs_background": "light"
     },
     "output_type": "display_data"
    }
   ],
   "source": [
    "pdf.hist('label')\n",
    "print(pdf.label.value_counts())"
   ]
  },
  {
   "cell_type": "markdown",
   "metadata": {},
   "source": [
    "- The total samples in data are 12304 out of which 11177 are wrong matchings and only 857 correct match\n",
    "- Highly unbalanced data"
   ]
  },
  {
   "cell_type": "markdown",
   "metadata": {},
   "source": [
    "## Evaluation Metric\n",
    "- Befor creating the models, we need to decide a evaluation metric.\n",
    "- Simple accuracy is bad metric here due to higly imbalanced data as randomly labeling as all incorrect matching the accuracy will be very high.\n",
    "- Recall = true positives/(true positives + false negatives) \n",
    "- Precison = true positives/(true positives + false positives)\n",
    "- recall is could be looked as ability of model to correctly label all true positives. and precison is ability to not label negative sample as positive.\n",
    "- Both of these are important but the major priority we will consider as to get a high Recall, so that correct matching could be found."
   ]
  },
  {
   "cell_type": "markdown",
   "metadata": {},
   "source": [
    "## Baseline\n",
    "- Create a baseline model using matching vector as feature.\n",
    "- Starting with simple linear regression and random forest, and xgboost model.\n",
    "- Xgboost model produces better result for baseline, so moving forward we will be optimizing the xgboost model only.\n"
   ]
  },
  {
   "cell_type": "code",
   "execution_count": 28,
   "metadata": {
    "collapsed": true,
    "jupyter": {
     "outputs_hidden": true,
     "source_hidden": true
    }
   },
   "outputs": [
    {
     "name": "stdout",
     "output_type": "stream",
     "text": [
      "[13:04:03] WARNING: ../src/learner.cc:516: \n",
      "Parameters: { silent } might not be used.\n",
      "\n",
      "  This may not be accurate due to some parameters are only used in language bindings but\n",
      "  passed down to XGBoost core.  Or some parameters are not used but slip through this\n",
      "  verification. Please open an issue if you find above cases.\n",
      "\n",
      "\n"
     ]
    }
   ],
   "source": [
    "\n",
    "\n",
    "data['label']= (data.matched_transaction_id == data.feature_transaction_id).astype(int)\n",
    "x,y = data[list(data.columns[4:])], data.label\n",
    "x=x.drop(['label'], axis=1)  \n",
    "X_train, X_test, y_train, y_test = train_test_split(x, y, test_size=0.3, random_state=42,shuffle=True)\n",
    "    \n",
    "train = xgboost.DMatrix(X_train, label=y_train)\n",
    "test = xgboost.DMatrix(X_test, label=y_test)\n",
    "watchlist = [(test, 'eval'), (train, 'train')]\n",
    "\n",
    "xgb_params = {\n",
    "            'objective': 'binary:logistic',\n",
    "            'tree_method': 'gpu_hist',\n",
    "            'max_depth': 2, \n",
    "            'eta':0.1,\n",
    "            'silent':1,\n",
    "            'subsample':0.5,\n",
    "            'colsample_bytree': 0.05,\n",
    "            \n",
    "}\n",
    "\n",
    "clf = xgboost.train( xgb_params,train, num_boost_round=10000,                 )\n",
    "\n",
    "preds = clf.predict(test)\n",
    "\n"
   ]
  },
  {
   "cell_type": "code",
   "execution_count": 42,
   "metadata": {
    "jupyter": {
     "source_hidden": true
    }
   },
   "outputs": [
    {
     "name": "stdout",
     "output_type": "stream",
     "text": [
      "              precision    recall  f1-score   support\n",
      "\n",
      "           0       0.97      0.99      0.98      3363\n",
      "           1       0.84      0.60      0.70       247\n",
      "\n",
      "    accuracy                           0.96      3610\n",
      "   macro avg       0.91      0.79      0.84      3610\n",
      "weighted avg       0.96      0.96      0.96      3610\n",
      "\n",
      " In the Confusion Matrix below, the digonal values represent correct classification for each class : \n"
     ]
    },
    {
     "data": {
      "image/png": "[encoded data removed]",
      "text/plain": [
       "<Figure size 432x288 with 2 Axes>"
      ]
     },
     "metadata": {
      "needs_background": "light"
     },
     "output_type": "display_data"
    }
   ],
   "source": [
    "print(classification_report(asnumpy(y_test),preds.round(0)))\n",
    "print( \" In the Confusion Matrix below, the digonal values represent correct classification for each class : \")\n",
    "labels = ['label-0', 'label-1']\n",
    "#print(confusion_matrix((y_test),(preds.round(0).astype(int))))  \n",
    "\n",
    "\n",
    "cm = sklearn.metrics.confusion_matrix(asnumpy(y_test),asnumpy(preds.round(0).astype(int)))\n",
    " \n",
    "\n",
    "ax= plt.subplot()\n",
    "sns.heatmap(cm.astype(int), annot=True,fmt='g', ax = ax); #annot=True to annotate cells\n",
    "\n",
    "# labels, title and ticks\n",
    "ax.set_xlabel('Predicted labels');ax.set_ylabel('True labels'); \n",
    "ax.set_title('Confusion Matrix'); \n",
    "ax.xaxis.set_ticklabels(labels); ax.yaxis.set_ticklabels(labels);\n",
    "        "
   ]
  },
  {
   "cell_type": "markdown",
   "metadata": {},
   "source": [
    "- The baseline XGB produces decent results the precesion is high, but recall is low, meaning the model is missing lot of correct matches, which is not good.\n"
   ]
  },
  {
   "cell_type": "markdown",
   "metadata": {},
   "source": [
    "### Feature Engineering\n",
    "- Now we dont have much inforamtion about how the features were created so it's hard to engineer any more features out of these, but looking at some of the features it could be seen all are values between 0-1 and some the value are related to the final label.\n",
    "- Lets see the how distrubution of each feature value.\n",
    "\n"
   ]
  },
  {
   "cell_type": "code",
   "execution_count": 45,
   "metadata": {
    "jupyter": {
     "source_hidden": true
    }
   },
   "outputs": [
    {
     "name": "stdout",
     "output_type": "stream",
     "text": [
      " Distribuition of DateMappingMatch feature values\n"
     ]
    },
    {
     "data": {
      "image/png": "[encoded data removed]",
      "text/plain": [
       "<Figure size 432x288 with 1 Axes>"
      ]
     },
     "metadata": {
      "needs_background": "light"
     },
     "output_type": "display_data"
    }
   ],
   "source": [
    "pdf.hist(\"DateMappingMatch\")\n",
    "print(\" Distribuition of DateMappingMatch feature values\")"
   ]
  },
  {
   "cell_type": "markdown",
   "metadata": {},
   "source": [
    "- It could be seen  DateMappingMatch is 0 for more than 8k samples.\n",
    "- If we check if this distribution is related to the label:"
   ]
  },
  {
   "cell_type": "code",
   "execution_count": 50,
   "metadata": {
    "jupyter": {
     "source_hidden": true
    }
   },
   "outputs": [
    {
     "name": "stdout",
     "output_type": "stream",
     "text": [
      "DateMappingMatch related to average label value \n"
     ]
    },
    {
     "data": {
      "image/png": "[encoded data removed]",
      "text/plain": [
       "<Figure size 432x288 with 1 Axes>"
      ]
     },
     "metadata": {
      "needs_background": "light"
     },
     "output_type": "display_data"
    }
   ],
   "source": [
    "dg = data.groupby('DateMappingMatch').agg({'label':['mean']})\n",
    "dg.columns = ['label_mean']\n",
    "ax = dg.label_mean.to_pandas().plot.bar()\n",
    "ax.set_ylabel('label_mean')\n",
    "\n",
    "print (\"DateMappingMatch related to average label value \")"
   ]
  },
  {
   "cell_type": "markdown",
   "metadata": {},
   "source": [
    "- Now it could be seen here that for DateMappingMatch values > 0.8 the corresponds to higher label mean, or larger DateMappingMatch value is realted to postive label.\n",
    "-  We can group these value in bins and count the size of each bin to create a new feature.\n",
    "- Using these new feature "
   ]
  },
  {
   "cell_type": "code",
   "execution_count": 64,
   "metadata": {
    "jupyter": {
     "source_hidden": true
    }
   },
   "outputs": [
    {
     "name": "stdout",
     "output_type": "stream",
     "text": [
      "[14:23:03] WARNING: ../src/learner.cc:516: \n",
      "Parameters: { silent } might not be used.\n",
      "\n",
      "  This may not be accurate due to some parameters are only used in language bindings but\n",
      "  passed down to XGBoost core.  Or some parameters are not used but slip through this\n",
      "  verification. Please open an issue if you find above cases.\n",
      "\n",
      "\n",
      "              precision    recall  f1-score   support\n",
      "\n",
      "           0       0.97      0.99      0.98      3361\n",
      "           1       0.80      0.61      0.69       249\n",
      "\n",
      "    accuracy                           0.96      3610\n",
      "   macro avg       0.89      0.80      0.84      3610\n",
      "weighted avg       0.96      0.96      0.96      3610\n",
      "\n",
      " In the Confusion Matrix below, the digonal values represent correct classification for each class : \n"
     ]
    },
    {
     "data": {
      "image/png": "[encoded data removed]",
      "text/plain": [
       "<Figure size 432x288 with 2 Axes>"
      ]
     },
     "metadata": {
      "needs_background": "light"
     },
     "output_type": "display_data"
    }
   ],
   "source": [
    "\n",
    "org_data = data.copy()\n",
    "feat_col=data.columns[4:-1]\n",
    "le = LabelEncoder()\n",
    "for col in feat_col:\n",
    "    var_count = data.groupby(col).agg({col:'count'})\n",
    "    var_count.columns = ['%s_count'%col]\n",
    "    var_count = var_count.reset_index()\n",
    "    data = data.merge(var_count,on=col,how='left')\n",
    "    le.fit(data['%s_count'%col])  \n",
    "    encoded = le.transform(data['%s_count'%col])\n",
    "    data['%s_count'%col] = encoded/encoded.max()\n",
    "    \n",
    "\n",
    "\n",
    "x,y = data[list(data.columns[4:])], data.label\n",
    "x=x.drop(['label'], axis=1)  \n",
    "X_train, X_test, y_train, y_test = train_test_split(x, y, test_size=0.3, random_state=42,shuffle=True)\n",
    "    \n",
    "train = xgboost.DMatrix(X_train, label=y_train)\n",
    "test = xgboost.DMatrix(X_test, label=y_test)\n",
    "watchlist = [(test, 'eval'), (train, 'train')]\n",
    "\n",
    "xgb_params = {\n",
    "            'objective': 'binary:logistic',\n",
    "            'tree_method': 'gpu_hist',\n",
    "            'max_depth': 2, \n",
    "            'eta':0.1,\n",
    "            'silent':1,\n",
    "            'subsample':0.5,\n",
    "            'colsample_bytree': 0.05,\n",
    "            \n",
    "}\n",
    "\n",
    "clf = xgboost.train( xgb_params,train, num_boost_round=10000,                 )\n",
    "\n",
    "preds = clf.predict(test)\n",
    "print(classification_report(asnumpy(y_test),preds.round(0)))\n",
    "print( \" In the Confusion Matrix below, the digonal values represent correct classification for each class : \")\n",
    "labels = ['label-0', 'label-1']\n",
    "#print(confusion_matrix((y_test),(preds.round(0).astype(int))))  \n",
    "\n",
    "\n",
    "cm = sklearn.metrics.confusion_matrix(asnumpy(y_test),asnumpy(preds.round(0).astype(int)))\n",
    " \n",
    "\n",
    "ax= plt.subplot()\n",
    "sns.heatmap(cm.astype(int), annot=True,fmt='g', ax = ax); #annot=True to annotate cells\n",
    "\n",
    "# labels, title and ticks\n",
    "ax.set_xlabel('Predicted labels');ax.set_ylabel('True labels'); \n",
    "ax.set_title('Confusion Matrix'); \n",
    "ax.xaxis.set_ticklabels(labels); ax.yaxis.set_ticklabels(labels);\n",
    "        \n"
   ]
  },
  {
   "cell_type": "markdown",
   "metadata": {},
   "source": [
    "- As seen from above results the new features doesn't make much diffrence\n",
    "- For now we won't use them as they don't provide any significant improvenment but will cause problems as creating these features during testing on new data will not be straight forward"
   ]
  },
  {
   "cell_type": "markdown",
   "metadata": {},
   "source": [
    "### We need to handle the class imbalance to improve the results.\n",
    "-  The best method would to have weighted loss, meaning if rare class is missclassifed the model would penalised more.\n",
    "- Now the weight by which we should be mupltiplying the loss could be taken as the imbalance proportion or any other value also might work, for now we could use 13 (which is class imbalance ratio)"
   ]
  },
  {
   "cell_type": "code",
   "execution_count": 71,
   "metadata": {
    "jupyter": {
     "source_hidden": true
    }
   },
   "outputs": [
    {
     "name": "stdout",
     "output_type": "stream",
     "text": [
      "[14:31:24] WARNING: ../src/learner.cc:516: \n",
      "Parameters: { silent } might not be used.\n",
      "\n",
      "  This may not be accurate due to some parameters are only used in language bindings but\n",
      "  passed down to XGBoost core.  Or some parameters are not used but slip through this\n",
      "  verification. Please open an issue if you find above cases.\n",
      "\n",
      "\n",
      "              precision    recall  f1-score   support\n",
      "\n",
      "           0       1.00      0.84      0.91      3352\n",
      "           1       0.32      0.98      0.49       258\n",
      "\n",
      "    accuracy                           0.85      3610\n",
      "   macro avg       0.66      0.91      0.70      3610\n",
      "weighted avg       0.95      0.85      0.88      3610\n",
      "\n",
      " In the Confusion Matrix below, the digonal values represent correct classification for each class : \n"
     ]
    },
    {
     "data": {
      "image/png": "[encoded data removed]",
      "text/plain": [
       "<Figure size 432x288 with 2 Axes>"
      ]
     },
     "metadata": {
      "needs_background": "light"
     },
     "output_type": "display_data"
    }
   ],
   "source": [
    "\n",
    "data = org_data\n",
    "data['label']= (data.matched_transaction_id == data.feature_transaction_id).astype(int)\n",
    "x,y = data[list(data.columns[4:])], data.label\n",
    "x=x.drop(['label'], axis=1)  \n",
    "X_train, X_test, y_train, y_test = train_test_split(x, y, test_size=0.3, random_state=42,shuffle=True)\n",
    "    \n",
    "train = xgboost.DMatrix(X_train, label=y_train)\n",
    "test = xgboost.DMatrix(X_test, label=y_test)\n",
    "watchlist = [(test, 'eval'), (train, 'train')]\n",
    "\n",
    "xgb_params = {\n",
    "            'objective': 'binary:logistic',\n",
    "            'tree_method': 'gpu_hist',\n",
    "            'max_depth': 2, \n",
    "            'eta':0.1,\n",
    "            'silent':1,\n",
    "            'subsample':0.5,\n",
    "            'colsample_bytree': 0.05,\n",
    "            'scale_pos_weight':13,\n",
    "}\n",
    "\n",
    "clf = xgboost.train( xgb_params,train, num_boost_round=20000,                 )\n",
    "\n",
    "preds = clf.predict(test)\n",
    "\n",
    "print(classification_report(asnumpy(y_test),preds.round(0)))\n",
    "print( \" In the Confusion Matrix below, the digonal values represent correct classification for each class : \")\n",
    "labels = ['label-0', 'label-1']\n",
    "#print(confusion_matrix((y_test),(preds.round(0).astype(int))))  \n",
    "\n",
    "\n",
    "cm = sklearn.metrics.confusion_matrix(asnumpy(y_test),asnumpy(preds.round(0).astype(int)))\n",
    " \n",
    "\n",
    "ax= plt.subplot()\n",
    "sns.heatmap(cm.astype(int), annot=True,fmt='g', ax = ax); #annot=True to annotate cells\n",
    "\n",
    "# labels, title and ticks\n",
    "ax.set_xlabel('Predicted labels');ax.set_ylabel('True labels'); \n",
    "ax.set_title('Confusion Matrix'); \n",
    "ax.xaxis.set_ticklabels(labels); ax.yaxis.set_ticklabels(labels);\n",
    "        "
   ]
  },
  {
   "cell_type": "markdown",
   "metadata": {},
   "source": [
    "- So this weighted loss trick improved the recall value significantly, although precesion for is not that high, but better recall value is more preferable.\n",
    "- Now as seen from Confusion Matrix, we can see we have more false postives (527) now although this is bad we shoudld check the confidence of model for these false postives."
   ]
  },
  {
   "cell_type": "code",
   "execution_count": 72,
   "metadata": {
    "jupyter": {
     "source_hidden": true
    }
   },
   "outputs": [
    {
     "data": {
      "text/plain": [
       "count    526.000000\n",
       "mean       0.725985\n",
       "std        0.087234\n",
       "min        0.500826\n",
       "25%        0.701039\n",
       "50%        0.710187\n",
       "75%        0.710187\n",
       "max        0.999817\n",
       "Name: scores, dtype: float64"
      ]
     },
     "execution_count": 72,
     "metadata": {},
     "output_type": "execute_result"
    }
   ],
   "source": [
    "tp = np.logical_and(preds.round(0)==1,asnumpy(y_test)==1)\n",
    "fp = np.logical_and(preds.round(0)==1,asnumpy(y_test)==0)\n",
    "xtest = X_test.copy()\n",
    "xtest['scores']=preds\n",
    "xtest.scores[fp].describe()"
   ]
  },
  {
   "cell_type": "markdown",
   "metadata": {},
   "source": [
    "- The above stats signify that mean confidance of model classifying false postives is 0.72 also majority of false positivea have around 0.71 confidence, which is not good as model showing dignigicant confidance in wrong predection\n",
    "- We can check the model confidence for true postives (meaning correctly classifying the postive class) :"
   ]
  },
  {
   "cell_type": "code",
   "execution_count": 74,
   "metadata": {
    "jupyter": {
     "source_hidden": true
    }
   },
   "outputs": [
    {
     "data": {
      "text/plain": [
       "count    253.000000\n",
       "mean       0.880693\n",
       "std        0.134692\n",
       "min        0.500826\n",
       "25%        0.710187\n",
       "50%        0.968476\n",
       "75%        0.993914\n",
       "max        0.999996\n",
       "Name: scores, dtype: float64"
      ]
     },
     "execution_count": 74,
     "metadata": {},
     "output_type": "execute_result"
    }
   ],
   "source": [
    "xtest.scores[tp].describe()"
   ]
  },
  {
   "cell_type": "markdown",
   "metadata": {},
   "source": [
    " - mean confidence for true postive is 0.88 which is good and higher than mean confidance in false postives, but it is still a problem, we somehow need to increase this diffrence without affecting recall value much.\n",
    " - Now the reason for this might be the we maybe using high weight(13) in the weighted loss, we can try to bring it down."
   ]
  },
  {
   "cell_type": "code",
   "execution_count": 75,
   "metadata": {
    "jupyter": {
     "source_hidden": true
    }
   },
   "outputs": [
    {
     "name": "stdout",
     "output_type": "stream",
     "text": [
      "[14:41:00] WARNING: ../src/learner.cc:516: \n",
      "Parameters: { silent } might not be used.\n",
      "\n",
      "  This may not be accurate due to some parameters are only used in language bindings but\n",
      "  passed down to XGBoost core.  Or some parameters are not used but slip through this\n",
      "  verification. Please open an issue if you find above cases.\n",
      "\n",
      "\n",
      "              precision    recall  f1-score   support\n",
      "\n",
      "           0       1.00      0.85      0.92      3336\n",
      "           1       0.34      0.96      0.50       274\n",
      "\n",
      "    accuracy                           0.86      3610\n",
      "   macro avg       0.67      0.91      0.71      3610\n",
      "weighted avg       0.95      0.86      0.88      3610\n",
      "\n",
      " In the Confusion Matrix below, the digonal values represent correct classification for each class : \n"
     ]
    },
    {
     "data": {
      "image/png": "[encoded data removed]",
      "text/plain": [
       "<Figure size 432x288 with 2 Axes>"
      ]
     },
     "metadata": {
      "needs_background": "light"
     },
     "output_type": "display_data"
    }
   ],
   "source": [
    "\n",
    "data = org_data\n",
    "data['label']= (data.matched_transaction_id == data.feature_transaction_id).astype(int)\n",
    "x,y = data[list(data.columns[4:])], data.label\n",
    "x=x.drop(['label'], axis=1)  \n",
    "X_train, X_test, y_train, y_test = train_test_split(x, y, test_size=0.3, random_state=42,shuffle=True)\n",
    "    \n",
    "train = xgboost.DMatrix(X_train, label=y_train)\n",
    "test = xgboost.DMatrix(X_test, label=y_test)\n",
    "watchlist = [(test, 'eval'), (train, 'train')]\n",
    "\n",
    "xgb_params = {\n",
    "            'objective': 'binary:logistic',\n",
    "            'tree_method': 'gpu_hist',\n",
    "            'max_depth': 2, \n",
    "            'eta':0.1,\n",
    "            'silent':1,\n",
    "            'subsample':0.5,\n",
    "            'colsample_bytree': 0.05,\n",
    "            'scale_pos_weight':8,\n",
    "}\n",
    "\n",
    "clf = xgboost.train( xgb_params,train, num_boost_round=20000,                 )\n",
    "\n",
    "preds = clf.predict(test)\n",
    "\n",
    "print(classification_report(asnumpy(y_test),preds.round(0)))\n",
    "print( \" In the Confusion Matrix below, the digonal values represent correct classification for each class : \")\n",
    "labels = ['label-0', 'label-1']\n",
    "#print(confusion_matrix((y_test),(preds.round(0).astype(int))))  \n",
    "\n",
    "\n",
    "cm = sklearn.metrics.confusion_matrix(asnumpy(y_test),asnumpy(preds.round(0).astype(int)))\n",
    " \n",
    "\n",
    "ax= plt.subplot()\n",
    "sns.heatmap(cm.astype(int), annot=True,fmt='g', ax = ax); #annot=True to annotate cells\n",
    "\n",
    "# labels, title and ticks\n",
    "ax.set_xlabel('Predicted labels');ax.set_ylabel('True labels'); \n",
    "ax.set_title('Confusion Matrix'); \n",
    "ax.xaxis.set_ticklabels(labels); ax.yaxis.set_ticklabels(labels);\n",
    "        "
   ]
  },
  {
   "cell_type": "code",
   "execution_count": 77,
   "metadata": {
    "jupyter": {
     "source_hidden": true
    }
   },
   "outputs": [
    {
     "name": "stdout",
     "output_type": "stream",
     "text": [
      "false postive stats\n",
      "count    509.000000\n",
      "mean       0.632003\n",
      "std        0.093489\n",
      "min        0.518502\n",
      "25%        0.604750\n",
      "50%        0.604750\n",
      "75%        0.609394\n",
      "max        0.998062\n",
      "Name: scores, dtype: float64\n",
      "\n",
      "True postive stats\n",
      "count    264.000000\n",
      "mean       0.854777\n",
      "std        0.164180\n",
      "min        0.537738\n",
      "25%        0.609394\n",
      "50%        0.945672\n",
      "75%        0.989480\n",
      "max        0.999992\n",
      "Name: scores, dtype: float64\n"
     ]
    }
   ],
   "source": [
    "tp = np.logical_and(preds.round(0)==1,asnumpy(y_test)==1)\n",
    "fp = np.logical_and(preds.round(0)==1,asnumpy(y_test)==0)\n",
    "xtest = X_test.copy()\n",
    "xtest['scores']=preds\n",
    "print ( \"false postive stats\")\n",
    "print(xtest.scores[fp].describe())\n",
    "print()\n",
    "print ( \"True postive stats\")\n",
    "print(xtest.scores[tp].describe())"
   ]
  },
  {
   "cell_type": "markdown",
   "metadata": {},
   "source": [
    " - Okay so we have brought the model confidence  in false postives lower and also diffrence of confidence between the 2 cases increased which is good, and overall model is still not affected that much.\n",
    " - We are going in right direction."
   ]
  },
  {
   "cell_type": "markdown",
   "metadata": {},
   "source": [
    "### HyperParameter optimization \n",
    "- now that we have very good model already, we can try to select best hyperparmeters for the xgb model we are using to further improve the performance.\n",
    "- We will be suing Ray Tune library for this purpose as it integrated nicely with the Cuml and Xgboost library we are using for faster trainging on GPU (compared to normal Scikit-Learn models on CPU).\n",
    "- Now after lot of trials setting diffrenet parameter search space, the resulting model is a huge improvenment over our previous best, also when the recall value is comaprable on cheking it is found that the model confidence is very low for both true psotives almsot same as for false positives which is not correct. \n",
    "- We can try different Hyperparameter search algorithms but the major problem comes in setting right metric for the search as simple accuracy or loss or AUC doesn't produce good result for our aim for matching right recipt with good confidence, also it's very time consuming and it very often produce overfitted model due to amount of data.\n",
    "- So we will won't use the model from the hyperparameter search results and go with out intial choosen model."
   ]
  },
  {
   "cell_type": "code",
   "execution_count": 80,
   "metadata": {
    "_kg_hide-output": true,
    "collapsed": true,
    "jupyter": {
     "outputs_hidden": true,
     "source_hidden": true
    }
   },
   "outputs": [
    {
     "name": "stdout",
     "output_type": "stream",
     "text": [
      "Found existing installation: dataclasses 0.6\n",
      "Uninstalling dataclasses-0.6:\n",
      "  Successfully uninstalled dataclasses-0.6\n"
     ]
    }
   ],
   "source": [
    "!pip uninstall -y dataclasses"
   ]
  },
  {
   "cell_type": "code",
   "execution_count": 93,
   "metadata": {
    "collapsed": true,
    "jupyter": {
     "outputs_hidden": true,
     "source_hidden": true
    }
   },
   "outputs": [
    {
     "data": {
      "text/html": [
       "== Status ==<br>Memory usage on this node: 2.8/15.6 GiB<br>Using AsyncHyperBand: num_stopped=0\n",
       "Bracket: Iter 8.000: None | Iter 4.000: None | Iter 2.000: None | Iter 1.000: None<br>Resources requested: 1/2 CPUs, 1/1 GPUs, 0.0/6.45 GiB heap, 0.0/2.2 GiB objects (0/1.0 accelerator_type:P100)<br>Result logdir: /root/ray_results/train_receipt_match_2021-01-25_15-07-00<br>Number of trials: 1/10 (1 RUNNING)<br><table>\n",
       "<thead>\n",
       "<tr><th>Trial name                     </th><th>status  </th><th>loc  </th><th style=\"text-align: right;\">        eta</th><th style=\"text-align: right;\">  max_depth</th><th style=\"text-align: right;\">  min_child_weight</th><th style=\"text-align: right;\">  scale_pos_weight</th><th style=\"text-align: right;\">  subsample</th></tr>\n",
       "</thead>\n",
       "<tbody>\n",
       "<tr><td>train_receipt_match_f992b_00000</td><td>RUNNING </td><td>     </td><td style=\"text-align: right;\">0.000443935</td><td style=\"text-align: right;\">          7</td><td style=\"text-align: right;\">                 3</td><td style=\"text-align: right;\">                 5</td><td style=\"text-align: right;\">   0.708966</td></tr>\n",
       "</tbody>\n",
       "</table><br><br>"
      ],
      "text/plain": [
       "<IPython.core.display.HTML object>"
      ]
     },
     "metadata": {},
     "output_type": "display_data"
    },
    {
     "name": "stdout",
     "output_type": "stream",
     "text": [
      "Result for train_receipt_match_f992b_00000:\n",
      "  date: 2021-01-25_15-07-05\n",
      "  done: false\n",
      "  eval-aucpr: 0.72666\n",
      "  eval-error: 0.046814\n",
      "  eval-logloss: 0.692783\n",
      "  experiment_id: 76f7dc1cd4e04a6fa24f0361faac3d99\n",
      "  experiment_tag: 0_eta=0.00044393,max_depth=7,min_child_weight=3,scale_pos_weight=5,subsample=0.70897\n",
      "  hostname: f1a12c4e1819\n",
      "  iterations_since_restore: 1\n",
      "  node_ip: 172.19.2.2\n",
      "  pid: 7750\n",
      "  should_checkpoint: true\n",
      "  time_since_restore: 0.1828763484954834\n",
      "  time_this_iter_s: 0.1828763484954834\n",
      "  time_total_s: 0.1828763484954834\n",
      "  timestamp: 1611587225\n",
      "  timesteps_since_restore: 0\n",
      "  train-aucpr: 0.73618\n",
      "  train-error: 0.04594\n",
      "  train-logloss: 0.692816\n",
      "  training_iteration: 1\n",
      "  trial_id: f992b_00000\n",
      "  \n",
      "\u001b[2m\u001b[36m(pid=7750)\u001b[0m [0]\teval-logloss:0.69278\teval-error:0.04681\teval-aucpr:0.72666\ttrain-logloss:0.69282\ttrain-error:0.04594\ttrain-aucpr:0.73618\n",
      "Result for train_receipt_match_f992b_00000:\n",
      "  date: 2021-01-25_15-07-05\n",
      "  done: true\n",
      "  eval-aucpr: 0.721994\n",
      "  eval-error: 0.046814\n",
      "  eval-logloss: 0.689539\n",
      "  experiment_id: 76f7dc1cd4e04a6fa24f0361faac3d99\n",
      "  experiment_tag: 0_eta=0.00044393,max_depth=7,min_child_weight=3,scale_pos_weight=5,subsample=0.70897\n",
      "  hostname: f1a12c4e1819\n",
      "  iterations_since_restore: 10\n",
      "  node_ip: 172.19.2.2\n",
      "  pid: 7750\n",
      "  should_checkpoint: true\n",
      "  time_since_restore: 0.4758758544921875\n",
      "  time_this_iter_s: 0.033209800720214844\n",
      "  time_total_s: 0.4758758544921875\n",
      "  timestamp: 1611587225\n",
      "  timesteps_since_restore: 0\n",
      "  train-aucpr: 0.746569\n",
      "  train-error: 0.045703\n",
      "  train-logloss: 0.689608\n",
      "  training_iteration: 10\n",
      "  trial_id: f992b_00000\n",
      "  \n",
      "Result for train_receipt_match_f992b_00001:\n",
      "  date: 2021-01-25_15-07-10\n",
      "  done: true\n",
      "  eval-aucpr: 0.700227\n",
      "  eval-error: 0.039612\n",
      "  eval-logloss: 0.691487\n",
      "  experiment_id: 6b71d715d15b4ee5b35fdae758d10a97\n",
      "  experiment_tag: 1_eta=0.0020314,max_depth=5,min_child_weight=2,scale_pos_weight=4,subsample=0.59573\n",
      "  hostname: f1a12c4e1819\n",
      "  iterations_since_restore: 1\n",
      "  node_ip: 172.19.2.2\n",
      "  pid: 7774\n",
      "  should_checkpoint: true\n",
      "  time_since_restore: 0.18125629425048828\n",
      "  time_this_iter_s: 0.18125629425048828\n",
      "  time_total_s: 0.18125629425048828\n",
      "  timestamp: 1611587230\n",
      "  timesteps_since_restore: 0\n",
      "  train-aucpr: 0.71979\n",
      "  train-error: 0.037512\n",
      "  train-logloss: 0.69145\n",
      "  training_iteration: 1\n",
      "  trial_id: f992b_00001\n",
      "  \n"
     ]
    },
    {
     "data": {
      "text/html": [
       "== Status ==<br>Memory usage on this node: 3.8/15.6 GiB<br>Using AsyncHyperBand: num_stopped=2\n",
       "Bracket: Iter 8.000: 0.721468 | Iter 4.000: 0.721548 | Iter 2.000: 0.723035 | Iter 1.000: 0.7134435<br>Resources requested: 1/2 CPUs, 1/1 GPUs, 0.0/6.45 GiB heap, 0.0/2.2 GiB objects (0/1.0 accelerator_type:P100)<br>Current best trial: f992b_00000 with eval-aucpr=0.721994 and parameters={'objective': 'binary:logistic', 'eval_metric': ['logloss', 'error', 'aucpr'], 'max_depth': 7, 'min_child_weight': 3, 'subsample': 0.708966235560103, 'eta': 0.000443934672227846, 'scale_pos_weight': 5}<br>Result logdir: /root/ray_results/train_receipt_match_2021-01-25_15-07-00<br>Number of trials: 3/10 (1 PENDING, 1 RUNNING, 1 TERMINATED)<br><table>\n",
       "<thead>\n",
       "<tr><th>Trial name                     </th><th>status    </th><th>loc            </th><th style=\"text-align: right;\">        eta</th><th style=\"text-align: right;\">  max_depth</th><th style=\"text-align: right;\">  min_child_weight</th><th style=\"text-align: right;\">  scale_pos_weight</th><th style=\"text-align: right;\">  subsample</th><th style=\"text-align: right;\">  iter</th><th style=\"text-align: right;\">  total time (s)</th><th style=\"text-align: right;\">  eval-logloss</th><th style=\"text-align: right;\">  eval-error</th><th style=\"text-align: right;\">  eval-aucpr</th></tr>\n",
       "</thead>\n",
       "<tbody>\n",
       "<tr><td>train_receipt_match_f992b_00001</td><td>RUNNING   </td><td>172.19.2.2:7774</td><td style=\"text-align: right;\">0.00203142 </td><td style=\"text-align: right;\">          5</td><td style=\"text-align: right;\">                 2</td><td style=\"text-align: right;\">                 4</td><td style=\"text-align: right;\">   0.595729</td><td style=\"text-align: right;\">     1</td><td style=\"text-align: right;\">        0.181256</td><td style=\"text-align: right;\">      0.691487</td><td style=\"text-align: right;\">    0.039612</td><td style=\"text-align: right;\">    0.700227</td></tr>\n",
       "<tr><td>train_receipt_match_f992b_00002</td><td>PENDING   </td><td>               </td><td style=\"text-align: right;\">0.00927257 </td><td style=\"text-align: right;\">          1</td><td style=\"text-align: right;\">                 1</td><td style=\"text-align: right;\">                 7</td><td style=\"text-align: right;\">   0.849221</td><td style=\"text-align: right;\">      </td><td style=\"text-align: right;\">                </td><td style=\"text-align: right;\">              </td><td style=\"text-align: right;\">            </td><td style=\"text-align: right;\">            </td></tr>\n",
       "<tr><td>train_receipt_match_f992b_00000</td><td>TERMINATED</td><td>               </td><td style=\"text-align: right;\">0.000443935</td><td style=\"text-align: right;\">          7</td><td style=\"text-align: right;\">                 3</td><td style=\"text-align: right;\">                 5</td><td style=\"text-align: right;\">   0.708966</td><td style=\"text-align: right;\">    10</td><td style=\"text-align: right;\">        0.475876</td><td style=\"text-align: right;\">      0.689539</td><td style=\"text-align: right;\">    0.046814</td><td style=\"text-align: right;\">    0.721994</td></tr>\n",
       "</tbody>\n",
       "</table><br><br>"
      ],
      "text/plain": [
       "<IPython.core.display.HTML object>"
      ]
     },
     "metadata": {},
     "output_type": "display_data"
    },
    {
     "name": "stdout",
     "output_type": "stream",
     "text": [
      "Result for train_receipt_match_f992b_00002:\n",
      "  date: 2021-01-25_15-07-15\n",
      "  done: true\n",
      "  eval-aucpr: 0.328842\n",
      "  eval-error: 0.144321\n",
      "  eval-logloss: 0.686411\n",
      "  experiment_id: e43d2df8634a4d0f9045578a8639ac67\n",
      "  experiment_tag: 2_eta=0.0092726,max_depth=1,min_child_weight=1,scale_pos_weight=7,subsample=0.84922\n",
      "  hostname: f1a12c4e1819\n",
      "  iterations_since_restore: 1\n",
      "  node_ip: 172.19.2.2\n",
      "  pid: 7804\n",
      "  should_checkpoint: true\n",
      "  time_since_restore: 0.17534327507019043\n",
      "  time_this_iter_s: 0.17534327507019043\n",
      "  time_total_s: 0.17534327507019043\n",
      "  timestamp: 1611587235\n",
      "  timesteps_since_restore: 0\n",
      "  train-aucpr: 0.312987\n",
      "  train-error: 0.15254\n",
      "  train-logloss: 0.686527\n",
      "  training_iteration: 1\n",
      "  trial_id: f992b_00002\n",
      "  \n",
      "Result for train_receipt_match_f992b_00003:\n",
      "  date: 2021-01-25_15-07-20\n",
      "  done: true\n",
      "  eval-aucpr: 0.512174\n",
      "  eval-error: 0.144321\n",
      "  eval-logloss: 0.692109\n",
      "  experiment_id: 8c3d179f10ca4f159d0ed784f614fba7\n",
      "  experiment_tag: 3_eta=0.0013786,max_depth=2,min_child_weight=3,scale_pos_weight=6,subsample=0.87774\n",
      "  hostname: f1a12c4e1819\n",
      "  iterations_since_restore: 1\n",
      "  node_ip: 172.19.2.2\n",
      "  pid: 7829\n",
      "  should_checkpoint: true\n",
      "  time_since_restore: 0.2700920104980469\n",
      "  time_this_iter_s: 0.2700920104980469\n",
      "  time_total_s: 0.2700920104980469\n",
      "  timestamp: 1611587240\n",
      "  timesteps_since_restore: 0\n",
      "  train-aucpr: 0.519396\n",
      "  train-error: 0.152184\n",
      "  train-logloss: 0.69218\n",
      "  training_iteration: 1\n",
      "  trial_id: f992b_00003\n",
      "  \n"
     ]
    },
    {
     "data": {
      "text/html": [
       "== Status ==<br>Memory usage on this node: 3.8/15.6 GiB<br>Using AsyncHyperBand: num_stopped=4\n",
       "Bracket: Iter 8.000: 0.721468 | Iter 4.000: 0.721548 | Iter 2.000: 0.723035 | Iter 1.000: 0.6062005<br>Resources requested: 1/2 CPUs, 1/1 GPUs, 0.0/6.45 GiB heap, 0.0/2.2 GiB objects (0/1.0 accelerator_type:P100)<br>Current best trial: f992b_00000 with eval-aucpr=0.721994 and parameters={'objective': 'binary:logistic', 'eval_metric': ['logloss', 'error', 'aucpr'], 'max_depth': 7, 'min_child_weight': 3, 'subsample': 0.708966235560103, 'eta': 0.000443934672227846, 'scale_pos_weight': 5}<br>Result logdir: /root/ray_results/train_receipt_match_2021-01-25_15-07-00<br>Number of trials: 5/10 (1 PENDING, 1 RUNNING, 3 TERMINATED)<br><table>\n",
       "<thead>\n",
       "<tr><th>Trial name                     </th><th>status    </th><th>loc            </th><th style=\"text-align: right;\">        eta</th><th style=\"text-align: right;\">  max_depth</th><th style=\"text-align: right;\">  min_child_weight</th><th style=\"text-align: right;\">  scale_pos_weight</th><th style=\"text-align: right;\">  subsample</th><th style=\"text-align: right;\">  iter</th><th style=\"text-align: right;\">  total time (s)</th><th style=\"text-align: right;\">  eval-logloss</th><th style=\"text-align: right;\">  eval-error</th><th style=\"text-align: right;\">  eval-aucpr</th></tr>\n",
       "</thead>\n",
       "<tbody>\n",
       "<tr><td>train_receipt_match_f992b_00003</td><td>RUNNING   </td><td>172.19.2.2:7829</td><td style=\"text-align: right;\">0.00137864 </td><td style=\"text-align: right;\">          2</td><td style=\"text-align: right;\">                 3</td><td style=\"text-align: right;\">                 6</td><td style=\"text-align: right;\">   0.877739</td><td style=\"text-align: right;\">     1</td><td style=\"text-align: right;\">        0.270092</td><td style=\"text-align: right;\">      0.692109</td><td style=\"text-align: right;\">    0.144321</td><td style=\"text-align: right;\">    0.512174</td></tr>\n",
       "<tr><td>train_receipt_match_f992b_00004</td><td>PENDING   </td><td>               </td><td style=\"text-align: right;\">0.031367   </td><td style=\"text-align: right;\">          4</td><td style=\"text-align: right;\">                 2</td><td style=\"text-align: right;\">                 6</td><td style=\"text-align: right;\">   0.706685</td><td style=\"text-align: right;\">      </td><td style=\"text-align: right;\">                </td><td style=\"text-align: right;\">              </td><td style=\"text-align: right;\">            </td><td style=\"text-align: right;\">            </td></tr>\n",
       "<tr><td>train_receipt_match_f992b_00000</td><td>TERMINATED</td><td>               </td><td style=\"text-align: right;\">0.000443935</td><td style=\"text-align: right;\">          7</td><td style=\"text-align: right;\">                 3</td><td style=\"text-align: right;\">                 5</td><td style=\"text-align: right;\">   0.708966</td><td style=\"text-align: right;\">    10</td><td style=\"text-align: right;\">        0.475876</td><td style=\"text-align: right;\">      0.689539</td><td style=\"text-align: right;\">    0.046814</td><td style=\"text-align: right;\">    0.721994</td></tr>\n",
       "<tr><td>train_receipt_match_f992b_00001</td><td>TERMINATED</td><td>               </td><td style=\"text-align: right;\">0.00203142 </td><td style=\"text-align: right;\">          5</td><td style=\"text-align: right;\">                 2</td><td style=\"text-align: right;\">                 4</td><td style=\"text-align: right;\">   0.595729</td><td style=\"text-align: right;\">     1</td><td style=\"text-align: right;\">        0.181256</td><td style=\"text-align: right;\">      0.691487</td><td style=\"text-align: right;\">    0.039612</td><td style=\"text-align: right;\">    0.700227</td></tr>\n",
       "<tr><td>train_receipt_match_f992b_00002</td><td>TERMINATED</td><td>               </td><td style=\"text-align: right;\">0.00927257 </td><td style=\"text-align: right;\">          1</td><td style=\"text-align: right;\">                 1</td><td style=\"text-align: right;\">                 7</td><td style=\"text-align: right;\">   0.849221</td><td style=\"text-align: right;\">     1</td><td style=\"text-align: right;\">        0.175343</td><td style=\"text-align: right;\">      0.686411</td><td style=\"text-align: right;\">    0.144321</td><td style=\"text-align: right;\">    0.328842</td></tr>\n",
       "</tbody>\n",
       "</table><br><br>"
      ],
      "text/plain": [
       "<IPython.core.display.HTML object>"
      ]
     },
     "metadata": {},
     "output_type": "display_data"
    },
    {
     "name": "stdout",
     "output_type": "stream",
     "text": [
      "Result for train_receipt_match_f992b_00004:\n",
      "  date: 2021-01-25_15-07-25\n",
      "  done: false\n",
      "  eval-aucpr: 0.69076\n",
      "  eval-error: 0.144321\n",
      "  eval-logloss: 0.668687\n",
      "  experiment_id: 896e87c31a20476d9a6983059383a431\n",
      "  experiment_tag: 4_eta=0.031367,max_depth=4,min_child_weight=2,scale_pos_weight=6,subsample=0.70668\n",
      "  hostname: f1a12c4e1819\n",
      "  iterations_since_restore: 1\n",
      "  node_ip: 172.19.2.2\n",
      "  pid: 7859\n",
      "  should_checkpoint: true\n",
      "  time_since_restore: 0.1788349151611328\n",
      "  time_this_iter_s: 0.1788349151611328\n",
      "  time_total_s: 0.1788349151611328\n",
      "  timestamp: 1611587245\n",
      "  timesteps_since_restore: 0\n",
      "  train-aucpr: 0.692353\n",
      "  train-error: 0.152184\n",
      "  train-logloss: 0.668983\n",
      "  training_iteration: 1\n",
      "  trial_id: f992b_00004\n",
      "  \n",
      "Result for train_receipt_match_f992b_00004:\n",
      "  date: 2021-01-25_15-07-25\n",
      "  done: true\n",
      "  eval-aucpr: 0.676641\n",
      "  eval-error: 0.145429\n",
      "  eval-logloss: 0.645803\n",
      "  experiment_id: 896e87c31a20476d9a6983059383a431\n",
      "  experiment_tag: 4_eta=0.031367,max_depth=4,min_child_weight=2,scale_pos_weight=6,subsample=0.70668\n",
      "  hostname: f1a12c4e1819\n",
      "  iterations_since_restore: 2\n",
      "  node_ip: 172.19.2.2\n",
      "  pid: 7859\n",
      "  should_checkpoint: true\n",
      "  time_since_restore: 0.2311255931854248\n",
      "  time_this_iter_s: 0.05229067802429199\n",
      "  time_total_s: 0.2311255931854248\n",
      "  timestamp: 1611587245\n",
      "  timesteps_since_restore: 0\n",
      "  train-aucpr: 0.671196\n",
      "  train-error: 0.153134\n",
      "  train-logloss: 0.646273\n",
      "  training_iteration: 2\n",
      "  trial_id: f992b_00004\n",
      "  \n",
      "\u001b[2m\u001b[36m(pid=7859)\u001b[0m [0]\teval-logloss:0.66869\teval-error:0.14432\teval-aucpr:0.69076\ttrain-logloss:0.66898\ttrain-error:0.15218\ttrain-aucpr:0.69235\n",
      "Result for train_receipt_match_f992b_00005:\n",
      "  date: 2021-01-25_15-07-30\n",
      "  done: false\n",
      "  eval-aucpr: 0.709334\n",
      "  eval-error: 0.144321\n",
      "  eval-logloss: 0.692798\n",
      "  experiment_id: da172e9a704347f2b3e2d720a2969244\n",
      "  experiment_tag: 5_eta=0.0004369,max_depth=6,min_child_weight=2,scale_pos_weight=7,subsample=0.95511\n",
      "  hostname: f1a12c4e1819\n",
      "  iterations_since_restore: 1\n",
      "  node_ip: 172.19.2.2\n",
      "  pid: 7884\n",
      "  should_checkpoint: true\n",
      "  time_since_restore: 0.18205046653747559\n",
      "  time_this_iter_s: 0.18205046653747559\n",
      "  time_total_s: 0.18205046653747559\n",
      "  timestamp: 1611587250\n",
      "  timesteps_since_restore: 0\n",
      "  train-aucpr: 0.729741\n",
      "  train-error: 0.152184\n",
      "  train-logloss: 0.692823\n",
      "  training_iteration: 1\n",
      "  trial_id: f992b_00005\n",
      "  \n"
     ]
    },
    {
     "data": {
      "text/html": [
       "== Status ==<br>Memory usage on this node: 3.8/15.6 GiB<br>Using AsyncHyperBand: num_stopped=5\n",
       "Bracket: Iter 8.000: 0.721468 | Iter 4.000: 0.721548 | Iter 2.000: 0.699838 | Iter 1.000: 0.6954935<br>Resources requested: 1/2 CPUs, 1/1 GPUs, 0.0/6.45 GiB heap, 0.0/2.2 GiB objects (0/1.0 accelerator_type:P100)<br>Current best trial: f992b_00000 with eval-aucpr=0.721994 and parameters={'objective': 'binary:logistic', 'eval_metric': ['logloss', 'error', 'aucpr'], 'max_depth': 7, 'min_child_weight': 3, 'subsample': 0.708966235560103, 'eta': 0.000443934672227846, 'scale_pos_weight': 5}<br>Result logdir: /root/ray_results/train_receipt_match_2021-01-25_15-07-00<br>Number of trials: 7/10 (1 PENDING, 1 RUNNING, 5 TERMINATED)<br><table>\n",
       "<thead>\n",
       "<tr><th>Trial name                     </th><th>status    </th><th>loc            </th><th style=\"text-align: right;\">        eta</th><th style=\"text-align: right;\">  max_depth</th><th style=\"text-align: right;\">  min_child_weight</th><th style=\"text-align: right;\">  scale_pos_weight</th><th style=\"text-align: right;\">  subsample</th><th style=\"text-align: right;\">  iter</th><th style=\"text-align: right;\">  total time (s)</th><th style=\"text-align: right;\">  eval-logloss</th><th style=\"text-align: right;\">  eval-error</th><th style=\"text-align: right;\">  eval-aucpr</th></tr>\n",
       "</thead>\n",
       "<tbody>\n",
       "<tr><td>train_receipt_match_f992b_00005</td><td>RUNNING   </td><td>172.19.2.2:7884</td><td style=\"text-align: right;\">0.000436902</td><td style=\"text-align: right;\">          6</td><td style=\"text-align: right;\">                 2</td><td style=\"text-align: right;\">                 7</td><td style=\"text-align: right;\">   0.955105</td><td style=\"text-align: right;\">     1</td><td style=\"text-align: right;\">        0.18205 </td><td style=\"text-align: right;\">      0.692798</td><td style=\"text-align: right;\">    0.144321</td><td style=\"text-align: right;\">    0.709334</td></tr>\n",
       "<tr><td>train_receipt_match_f992b_00006</td><td>PENDING   </td><td>               </td><td style=\"text-align: right;\">0.00075004 </td><td style=\"text-align: right;\">          3</td><td style=\"text-align: right;\">                 3</td><td style=\"text-align: right;\">                 7</td><td style=\"text-align: right;\">   0.415292</td><td style=\"text-align: right;\">      </td><td style=\"text-align: right;\">                </td><td style=\"text-align: right;\">              </td><td style=\"text-align: right;\">            </td><td style=\"text-align: right;\">            </td></tr>\n",
       "<tr><td>train_receipt_match_f992b_00000</td><td>TERMINATED</td><td>               </td><td style=\"text-align: right;\">0.000443935</td><td style=\"text-align: right;\">          7</td><td style=\"text-align: right;\">                 3</td><td style=\"text-align: right;\">                 5</td><td style=\"text-align: right;\">   0.708966</td><td style=\"text-align: right;\">    10</td><td style=\"text-align: right;\">        0.475876</td><td style=\"text-align: right;\">      0.689539</td><td style=\"text-align: right;\">    0.046814</td><td style=\"text-align: right;\">    0.721994</td></tr>\n",
       "<tr><td>train_receipt_match_f992b_00001</td><td>TERMINATED</td><td>               </td><td style=\"text-align: right;\">0.00203142 </td><td style=\"text-align: right;\">          5</td><td style=\"text-align: right;\">                 2</td><td style=\"text-align: right;\">                 4</td><td style=\"text-align: right;\">   0.595729</td><td style=\"text-align: right;\">     1</td><td style=\"text-align: right;\">        0.181256</td><td style=\"text-align: right;\">      0.691487</td><td style=\"text-align: right;\">    0.039612</td><td style=\"text-align: right;\">    0.700227</td></tr>\n",
       "<tr><td>train_receipt_match_f992b_00002</td><td>TERMINATED</td><td>               </td><td style=\"text-align: right;\">0.00927257 </td><td style=\"text-align: right;\">          1</td><td style=\"text-align: right;\">                 1</td><td style=\"text-align: right;\">                 7</td><td style=\"text-align: right;\">   0.849221</td><td style=\"text-align: right;\">     1</td><td style=\"text-align: right;\">        0.175343</td><td style=\"text-align: right;\">      0.686411</td><td style=\"text-align: right;\">    0.144321</td><td style=\"text-align: right;\">    0.328842</td></tr>\n",
       "<tr><td>train_receipt_match_f992b_00003</td><td>TERMINATED</td><td>               </td><td style=\"text-align: right;\">0.00137864 </td><td style=\"text-align: right;\">          2</td><td style=\"text-align: right;\">                 3</td><td style=\"text-align: right;\">                 6</td><td style=\"text-align: right;\">   0.877739</td><td style=\"text-align: right;\">     1</td><td style=\"text-align: right;\">        0.270092</td><td style=\"text-align: right;\">      0.692109</td><td style=\"text-align: right;\">    0.144321</td><td style=\"text-align: right;\">    0.512174</td></tr>\n",
       "<tr><td>train_receipt_match_f992b_00004</td><td>TERMINATED</td><td>               </td><td style=\"text-align: right;\">0.031367   </td><td style=\"text-align: right;\">          4</td><td style=\"text-align: right;\">                 2</td><td style=\"text-align: right;\">                 6</td><td style=\"text-align: right;\">   0.706685</td><td style=\"text-align: right;\">     2</td><td style=\"text-align: right;\">        0.231126</td><td style=\"text-align: right;\">      0.645803</td><td style=\"text-align: right;\">    0.145429</td><td style=\"text-align: right;\">    0.676641</td></tr>\n",
       "</tbody>\n",
       "</table><br><br>"
      ],
      "text/plain": [
       "<IPython.core.display.HTML object>"
      ]
     },
     "metadata": {},
     "output_type": "display_data"
    },
    {
     "name": "stdout",
     "output_type": "stream",
     "text": [
      "\u001b[2m\u001b[36m(pid=7884)\u001b[0m [0]\teval-logloss:0.69280\teval-error:0.14432\teval-aucpr:0.70933\ttrain-logloss:0.69282\ttrain-error:0.15218\ttrain-aucpr:0.72974\n",
      "Result for train_receipt_match_f992b_00005:\n",
      "  date: 2021-01-25_15-07-30\n",
      "  done: true\n",
      "  eval-aucpr: 0.719673\n",
      "  eval-error: 0.144321\n",
      "  eval-logloss: 0.691767\n",
      "  experiment_id: da172e9a704347f2b3e2d720a2969244\n",
      "  experiment_tag: 5_eta=0.0004369,max_depth=6,min_child_weight=2,scale_pos_weight=7,subsample=0.95511\n",
      "  hostname: f1a12c4e1819\n",
      "  iterations_since_restore: 4\n",
      "  node_ip: 172.19.2.2\n",
      "  pid: 7884\n",
      "  should_checkpoint: true\n",
      "  time_since_restore: 0.29499077796936035\n",
      "  time_this_iter_s: 0.029791831970214844\n",
      "  time_total_s: 0.29499077796936035\n",
      "  timestamp: 1611587250\n",
      "  timesteps_since_restore: 0\n",
      "  train-aucpr: 0.736076\n",
      "  train-error: 0.152184\n",
      "  train-logloss: 0.691777\n",
      "  training_iteration: 4\n",
      "  trial_id: f992b_00005\n",
      "  \n",
      "Result for train_receipt_match_f992b_00006:\n",
      "  date: 2021-01-25_15-07-35\n",
      "  done: true\n",
      "  eval-aucpr: 0.604372\n",
      "  eval-error: 0.144321\n",
      "  eval-logloss: 0.692558\n",
      "  experiment_id: 48c2ca64779d4419b32aa22e9de3e977\n",
      "  experiment_tag: 6_eta=0.00075004,max_depth=3,min_child_weight=3,scale_pos_weight=7,subsample=0.41529\n",
      "  hostname: f1a12c4e1819\n",
      "  iterations_since_restore: 1\n",
      "  node_ip: 172.19.2.2\n",
      "  pid: 7915\n",
      "  should_checkpoint: true\n",
      "  time_since_restore: 0.17745232582092285\n",
      "  time_this_iter_s: 0.17745232582092285\n",
      "  time_total_s: 0.17745232582092285\n",
      "  timestamp: 1611587255\n",
      "  timesteps_since_restore: 0\n",
      "  train-aucpr: 0.616446\n",
      "  train-error: 0.152184\n",
      "  train-logloss: 0.69256\n",
      "  training_iteration: 1\n",
      "  trial_id: f992b_00006\n",
      "  \n"
     ]
    },
    {
     "data": {
      "text/html": [
       "== Status ==<br>Memory usage on this node: 3.8/15.6 GiB<br>Using AsyncHyperBand: num_stopped=7\n",
       "Bracket: Iter 8.000: 0.721468 | Iter 4.000: 0.7206105 | Iter 2.000: 0.720223 | Iter 1.000: 0.69076<br>Resources requested: 1/2 CPUs, 1/1 GPUs, 0.0/6.45 GiB heap, 0.0/2.2 GiB objects (0/1.0 accelerator_type:P100)<br>Current best trial: f992b_00000 with eval-aucpr=0.721994 and parameters={'objective': 'binary:logistic', 'eval_metric': ['logloss', 'error', 'aucpr'], 'max_depth': 7, 'min_child_weight': 3, 'subsample': 0.708966235560103, 'eta': 0.000443934672227846, 'scale_pos_weight': 5}<br>Result logdir: /root/ray_results/train_receipt_match_2021-01-25_15-07-00<br>Number of trials: 8/10 (1 PENDING, 1 RUNNING, 6 TERMINATED)<br><table>\n",
       "<thead>\n",
       "<tr><th>Trial name                     </th><th>status    </th><th>loc            </th><th style=\"text-align: right;\">        eta</th><th style=\"text-align: right;\">  max_depth</th><th style=\"text-align: right;\">  min_child_weight</th><th style=\"text-align: right;\">  scale_pos_weight</th><th style=\"text-align: right;\">  subsample</th><th style=\"text-align: right;\">  iter</th><th style=\"text-align: right;\">  total time (s)</th><th style=\"text-align: right;\">  eval-logloss</th><th style=\"text-align: right;\">  eval-error</th><th style=\"text-align: right;\">  eval-aucpr</th></tr>\n",
       "</thead>\n",
       "<tbody>\n",
       "<tr><td>train_receipt_match_f992b_00006</td><td>RUNNING   </td><td>172.19.2.2:7915</td><td style=\"text-align: right;\">0.00075004 </td><td style=\"text-align: right;\">          3</td><td style=\"text-align: right;\">                 3</td><td style=\"text-align: right;\">                 7</td><td style=\"text-align: right;\">   0.415292</td><td style=\"text-align: right;\">     1</td><td style=\"text-align: right;\">        0.177452</td><td style=\"text-align: right;\">      0.692558</td><td style=\"text-align: right;\">    0.144321</td><td style=\"text-align: right;\">    0.604372</td></tr>\n",
       "<tr><td>train_receipt_match_f992b_00007</td><td>PENDING   </td><td>               </td><td style=\"text-align: right;\">0.0441112  </td><td style=\"text-align: right;\">          6</td><td style=\"text-align: right;\">                 2</td><td style=\"text-align: right;\">                 7</td><td style=\"text-align: right;\">   0.813427</td><td style=\"text-align: right;\">      </td><td style=\"text-align: right;\">                </td><td style=\"text-align: right;\">              </td><td style=\"text-align: right;\">            </td><td style=\"text-align: right;\">            </td></tr>\n",
       "<tr><td>train_receipt_match_f992b_00000</td><td>TERMINATED</td><td>               </td><td style=\"text-align: right;\">0.000443935</td><td style=\"text-align: right;\">          7</td><td style=\"text-align: right;\">                 3</td><td style=\"text-align: right;\">                 5</td><td style=\"text-align: right;\">   0.708966</td><td style=\"text-align: right;\">    10</td><td style=\"text-align: right;\">        0.475876</td><td style=\"text-align: right;\">      0.689539</td><td style=\"text-align: right;\">    0.046814</td><td style=\"text-align: right;\">    0.721994</td></tr>\n",
       "<tr><td>train_receipt_match_f992b_00001</td><td>TERMINATED</td><td>               </td><td style=\"text-align: right;\">0.00203142 </td><td style=\"text-align: right;\">          5</td><td style=\"text-align: right;\">                 2</td><td style=\"text-align: right;\">                 4</td><td style=\"text-align: right;\">   0.595729</td><td style=\"text-align: right;\">     1</td><td style=\"text-align: right;\">        0.181256</td><td style=\"text-align: right;\">      0.691487</td><td style=\"text-align: right;\">    0.039612</td><td style=\"text-align: right;\">    0.700227</td></tr>\n",
       "<tr><td>train_receipt_match_f992b_00002</td><td>TERMINATED</td><td>               </td><td style=\"text-align: right;\">0.00927257 </td><td style=\"text-align: right;\">          1</td><td style=\"text-align: right;\">                 1</td><td style=\"text-align: right;\">                 7</td><td style=\"text-align: right;\">   0.849221</td><td style=\"text-align: right;\">     1</td><td style=\"text-align: right;\">        0.175343</td><td style=\"text-align: right;\">      0.686411</td><td style=\"text-align: right;\">    0.144321</td><td style=\"text-align: right;\">    0.328842</td></tr>\n",
       "<tr><td>train_receipt_match_f992b_00003</td><td>TERMINATED</td><td>               </td><td style=\"text-align: right;\">0.00137864 </td><td style=\"text-align: right;\">          2</td><td style=\"text-align: right;\">                 3</td><td style=\"text-align: right;\">                 6</td><td style=\"text-align: right;\">   0.877739</td><td style=\"text-align: right;\">     1</td><td style=\"text-align: right;\">        0.270092</td><td style=\"text-align: right;\">      0.692109</td><td style=\"text-align: right;\">    0.144321</td><td style=\"text-align: right;\">    0.512174</td></tr>\n",
       "<tr><td>train_receipt_match_f992b_00004</td><td>TERMINATED</td><td>               </td><td style=\"text-align: right;\">0.031367   </td><td style=\"text-align: right;\">          4</td><td style=\"text-align: right;\">                 2</td><td style=\"text-align: right;\">                 6</td><td style=\"text-align: right;\">   0.706685</td><td style=\"text-align: right;\">     2</td><td style=\"text-align: right;\">        0.231126</td><td style=\"text-align: right;\">      0.645803</td><td style=\"text-align: right;\">    0.145429</td><td style=\"text-align: right;\">    0.676641</td></tr>\n",
       "<tr><td>train_receipt_match_f992b_00005</td><td>TERMINATED</td><td>               </td><td style=\"text-align: right;\">0.000436902</td><td style=\"text-align: right;\">          6</td><td style=\"text-align: right;\">                 2</td><td style=\"text-align: right;\">                 7</td><td style=\"text-align: right;\">   0.955105</td><td style=\"text-align: right;\">     4</td><td style=\"text-align: right;\">        0.294991</td><td style=\"text-align: right;\">      0.691767</td><td style=\"text-align: right;\">    0.144321</td><td style=\"text-align: right;\">    0.719673</td></tr>\n",
       "</tbody>\n",
       "</table><br><br>"
      ],
      "text/plain": [
       "<IPython.core.display.HTML object>"
      ]
     },
     "metadata": {},
     "output_type": "display_data"
    },
    {
     "name": "stdout",
     "output_type": "stream",
     "text": [
      "Result for train_receipt_match_f992b_00007:\n",
      "  date: 2021-01-25_15-07-40\n",
      "  done: false\n",
      "  eval-aucpr: 0.709861\n",
      "  eval-error: 0.144321\n",
      "  eval-logloss: 0.659001\n",
      "  experiment_id: 12a454e2f92e4bbbba6bf1ce41b7b9ae\n",
      "  experiment_tag: 7_eta=0.044111,max_depth=6,min_child_weight=2,scale_pos_weight=7,subsample=0.81343\n",
      "  hostname: f1a12c4e1819\n",
      "  iterations_since_restore: 1\n",
      "  node_ip: 172.19.2.2\n",
      "  pid: 7939\n",
      "  should_checkpoint: true\n",
      "  time_since_restore: 0.18074345588684082\n",
      "  time_this_iter_s: 0.18074345588684082\n",
      "  time_total_s: 0.18074345588684082\n",
      "  timestamp: 1611587260\n",
      "  timesteps_since_restore: 0\n",
      "  train-aucpr: 0.730665\n",
      "  train-error: 0.152184\n",
      "  train-logloss: 0.659259\n",
      "  training_iteration: 1\n",
      "  trial_id: f992b_00007\n",
      "  \n",
      "\u001b[2m\u001b[36m(pid=7939)\u001b[0m [0]\teval-logloss:0.65900\teval-error:0.14432\teval-aucpr:0.70986\ttrain-logloss:0.65926\ttrain-error:0.15218\ttrain-aucpr:0.73067\n"
     ]
    },
    {
     "data": {
      "text/html": [
       "== Status ==<br>Memory usage on this node: 3.8/15.6 GiB<br>Using AsyncHyperBand: num_stopped=7\n",
       "Bracket: Iter 8.000: 0.721468 | Iter 4.000: 0.7206105 | Iter 2.000: 0.720579 | Iter 1.000: 0.6954935<br>Resources requested: 1/2 CPUs, 1/1 GPUs, 0.0/6.45 GiB heap, 0.0/2.2 GiB objects (0/1.0 accelerator_type:P100)<br>Current best trial: f992b_00000 with eval-aucpr=0.721994 and parameters={'objective': 'binary:logistic', 'eval_metric': ['logloss', 'error', 'aucpr'], 'max_depth': 7, 'min_child_weight': 3, 'subsample': 0.708966235560103, 'eta': 0.000443934672227846, 'scale_pos_weight': 5}<br>Result logdir: /root/ray_results/train_receipt_match_2021-01-25_15-07-00<br>Number of trials: 9/10 (1 PENDING, 1 RUNNING, 7 TERMINATED)<br><table>\n",
       "<thead>\n",
       "<tr><th>Trial name                     </th><th>status    </th><th>loc            </th><th style=\"text-align: right;\">        eta</th><th style=\"text-align: right;\">  max_depth</th><th style=\"text-align: right;\">  min_child_weight</th><th style=\"text-align: right;\">  scale_pos_weight</th><th style=\"text-align: right;\">  subsample</th><th style=\"text-align: right;\">  iter</th><th style=\"text-align: right;\">  total time (s)</th><th style=\"text-align: right;\">  eval-logloss</th><th style=\"text-align: right;\">  eval-error</th><th style=\"text-align: right;\">  eval-aucpr</th></tr>\n",
       "</thead>\n",
       "<tbody>\n",
       "<tr><td>train_receipt_match_f992b_00007</td><td>RUNNING   </td><td>172.19.2.2:7939</td><td style=\"text-align: right;\">0.0441112  </td><td style=\"text-align: right;\">          6</td><td style=\"text-align: right;\">                 2</td><td style=\"text-align: right;\">                 7</td><td style=\"text-align: right;\">   0.813427</td><td style=\"text-align: right;\">     2</td><td style=\"text-align: right;\">        0.220999</td><td style=\"text-align: right;\">      0.627692</td><td style=\"text-align: right;\">    0.136011</td><td style=\"text-align: right;\">    0.720935</td></tr>\n",
       "<tr><td>train_receipt_match_f992b_00008</td><td>PENDING   </td><td>               </td><td style=\"text-align: right;\">0.00478556 </td><td style=\"text-align: right;\">          8</td><td style=\"text-align: right;\">                 2</td><td style=\"text-align: right;\">                 6</td><td style=\"text-align: right;\">   0.601785</td><td style=\"text-align: right;\">      </td><td style=\"text-align: right;\">                </td><td style=\"text-align: right;\">              </td><td style=\"text-align: right;\">            </td><td style=\"text-align: right;\">            </td></tr>\n",
       "<tr><td>train_receipt_match_f992b_00000</td><td>TERMINATED</td><td>               </td><td style=\"text-align: right;\">0.000443935</td><td style=\"text-align: right;\">          7</td><td style=\"text-align: right;\">                 3</td><td style=\"text-align: right;\">                 5</td><td style=\"text-align: right;\">   0.708966</td><td style=\"text-align: right;\">    10</td><td style=\"text-align: right;\">        0.475876</td><td style=\"text-align: right;\">      0.689539</td><td style=\"text-align: right;\">    0.046814</td><td style=\"text-align: right;\">    0.721994</td></tr>\n",
       "<tr><td>train_receipt_match_f992b_00001</td><td>TERMINATED</td><td>               </td><td style=\"text-align: right;\">0.00203142 </td><td style=\"text-align: right;\">          5</td><td style=\"text-align: right;\">                 2</td><td style=\"text-align: right;\">                 4</td><td style=\"text-align: right;\">   0.595729</td><td style=\"text-align: right;\">     1</td><td style=\"text-align: right;\">        0.181256</td><td style=\"text-align: right;\">      0.691487</td><td style=\"text-align: right;\">    0.039612</td><td style=\"text-align: right;\">    0.700227</td></tr>\n",
       "<tr><td>train_receipt_match_f992b_00002</td><td>TERMINATED</td><td>               </td><td style=\"text-align: right;\">0.00927257 </td><td style=\"text-align: right;\">          1</td><td style=\"text-align: right;\">                 1</td><td style=\"text-align: right;\">                 7</td><td style=\"text-align: right;\">   0.849221</td><td style=\"text-align: right;\">     1</td><td style=\"text-align: right;\">        0.175343</td><td style=\"text-align: right;\">      0.686411</td><td style=\"text-align: right;\">    0.144321</td><td style=\"text-align: right;\">    0.328842</td></tr>\n",
       "<tr><td>train_receipt_match_f992b_00003</td><td>TERMINATED</td><td>               </td><td style=\"text-align: right;\">0.00137864 </td><td style=\"text-align: right;\">          2</td><td style=\"text-align: right;\">                 3</td><td style=\"text-align: right;\">                 6</td><td style=\"text-align: right;\">   0.877739</td><td style=\"text-align: right;\">     1</td><td style=\"text-align: right;\">        0.270092</td><td style=\"text-align: right;\">      0.692109</td><td style=\"text-align: right;\">    0.144321</td><td style=\"text-align: right;\">    0.512174</td></tr>\n",
       "<tr><td>train_receipt_match_f992b_00004</td><td>TERMINATED</td><td>               </td><td style=\"text-align: right;\">0.031367   </td><td style=\"text-align: right;\">          4</td><td style=\"text-align: right;\">                 2</td><td style=\"text-align: right;\">                 6</td><td style=\"text-align: right;\">   0.706685</td><td style=\"text-align: right;\">     2</td><td style=\"text-align: right;\">        0.231126</td><td style=\"text-align: right;\">      0.645803</td><td style=\"text-align: right;\">    0.145429</td><td style=\"text-align: right;\">    0.676641</td></tr>\n",
       "<tr><td>train_receipt_match_f992b_00005</td><td>TERMINATED</td><td>               </td><td style=\"text-align: right;\">0.000436902</td><td style=\"text-align: right;\">          6</td><td style=\"text-align: right;\">                 2</td><td style=\"text-align: right;\">                 7</td><td style=\"text-align: right;\">   0.955105</td><td style=\"text-align: right;\">     4</td><td style=\"text-align: right;\">        0.294991</td><td style=\"text-align: right;\">      0.691767</td><td style=\"text-align: right;\">    0.144321</td><td style=\"text-align: right;\">    0.719673</td></tr>\n",
       "<tr><td>train_receipt_match_f992b_00006</td><td>TERMINATED</td><td>               </td><td style=\"text-align: right;\">0.00075004 </td><td style=\"text-align: right;\">          3</td><td style=\"text-align: right;\">                 3</td><td style=\"text-align: right;\">                 7</td><td style=\"text-align: right;\">   0.415292</td><td style=\"text-align: right;\">     1</td><td style=\"text-align: right;\">        0.177452</td><td style=\"text-align: right;\">      0.692558</td><td style=\"text-align: right;\">    0.144321</td><td style=\"text-align: right;\">    0.604372</td></tr>\n",
       "</tbody>\n",
       "</table><br><br>"
      ],
      "text/plain": [
       "<IPython.core.display.HTML object>"
      ]
     },
     "metadata": {},
     "output_type": "display_data"
    },
    {
     "name": "stdout",
     "output_type": "stream",
     "text": [
      "Result for train_receipt_match_f992b_00007:\n",
      "  date: 2021-01-25_15-07-41\n",
      "  done: true\n",
      "  eval-aucpr: 0.72349\n",
      "  eval-error: 0.144321\n",
      "  eval-logloss: 0.450133\n",
      "  experiment_id: 12a454e2f92e4bbbba6bf1ce41b7b9ae\n",
      "  experiment_tag: 7_eta=0.044111,max_depth=6,min_child_weight=2,scale_pos_weight=7,subsample=0.81343\n",
      "  hostname: f1a12c4e1819\n",
      "  iterations_since_restore: 10\n",
      "  node_ip: 172.19.2.2\n",
      "  pid: 7939\n",
      "  should_checkpoint: true\n",
      "  time_since_restore: 0.6663346290588379\n",
      "  time_this_iter_s: 0.04856371879577637\n",
      "  time_total_s: 0.6663346290588379\n",
      "  timestamp: 1611587261\n",
      "  timesteps_since_restore: 0\n",
      "  train-aucpr: 0.748466\n",
      "  train-error: 0.152184\n",
      "  train-logloss: 0.451963\n",
      "  training_iteration: 10\n",
      "  trial_id: f992b_00007\n",
      "  \n",
      "Result for train_receipt_match_f992b_00008:\n",
      "  date: 2021-01-25_15-07-45\n",
      "  done: false\n",
      "  eval-aucpr: 0.71\n",
      "  eval-error: 0.128532\n",
      "  eval-logloss: 0.6893\n",
      "  experiment_id: 1b0506032776425e8abc2b722e46bac9\n",
      "  experiment_tag: 8_eta=0.0047856,max_depth=8,min_child_weight=2,scale_pos_weight=6,subsample=0.60178\n",
      "  hostname: f1a12c4e1819\n",
      "  iterations_since_restore: 1\n",
      "  node_ip: 172.19.2.2\n",
      "  pid: 7970\n",
      "  should_checkpoint: true\n",
      "  time_since_restore: 0.18211150169372559\n",
      "  time_this_iter_s: 0.18211150169372559\n",
      "  time_total_s: 0.18211150169372559\n",
      "  timestamp: 1611587265\n",
      "  timesteps_since_restore: 0\n",
      "  train-aucpr: 0.733228\n",
      "  train-error: 0.133903\n",
      "  train-logloss: 0.689351\n",
      "  training_iteration: 1\n",
      "  trial_id: f992b_00008\n",
      "  \n"
     ]
    },
    {
     "data": {
      "text/html": [
       "== Status ==<br>Memory usage on this node: 3.8/15.6 GiB<br>Using AsyncHyperBand: num_stopped=8\n",
       "Bracket: Iter 8.000: 0.724673 | Iter 4.000: 0.721548 | Iter 2.000: 0.720579 | Iter 1.000: 0.700227<br>Resources requested: 1/2 CPUs, 1/1 GPUs, 0.0/6.45 GiB heap, 0.0/2.2 GiB objects (0/1.0 accelerator_type:P100)<br>Current best trial: f992b_00007 with eval-aucpr=0.72349 and parameters={'objective': 'binary:logistic', 'eval_metric': ['logloss', 'error', 'aucpr'], 'max_depth': 6, 'min_child_weight': 2, 'subsample': 0.8134274124592183, 'eta': 0.04411116108730761, 'scale_pos_weight': 7}<br>Result logdir: /root/ray_results/train_receipt_match_2021-01-25_15-07-00<br>Number of trials: 10/10 (1 PENDING, 1 RUNNING, 8 TERMINATED)<br><table>\n",
       "<thead>\n",
       "<tr><th>Trial name                     </th><th>status    </th><th>loc            </th><th style=\"text-align: right;\">        eta</th><th style=\"text-align: right;\">  max_depth</th><th style=\"text-align: right;\">  min_child_weight</th><th style=\"text-align: right;\">  scale_pos_weight</th><th style=\"text-align: right;\">  subsample</th><th style=\"text-align: right;\">  iter</th><th style=\"text-align: right;\">  total time (s)</th><th style=\"text-align: right;\">  eval-logloss</th><th style=\"text-align: right;\">  eval-error</th><th style=\"text-align: right;\">  eval-aucpr</th></tr>\n",
       "</thead>\n",
       "<tbody>\n",
       "<tr><td>train_receipt_match_f992b_00008</td><td>RUNNING   </td><td>172.19.2.2:7970</td><td style=\"text-align: right;\">0.00478556 </td><td style=\"text-align: right;\">          8</td><td style=\"text-align: right;\">                 2</td><td style=\"text-align: right;\">                 6</td><td style=\"text-align: right;\">   0.601785</td><td style=\"text-align: right;\">     1</td><td style=\"text-align: right;\">        0.182112</td><td style=\"text-align: right;\">      0.6893  </td><td style=\"text-align: right;\">    0.128532</td><td style=\"text-align: right;\">    0.71    </td></tr>\n",
       "<tr><td>train_receipt_match_f992b_00009</td><td>PENDING   </td><td>               </td><td style=\"text-align: right;\">0.0847671  </td><td style=\"text-align: right;\">          3</td><td style=\"text-align: right;\">                 1</td><td style=\"text-align: right;\">                12</td><td style=\"text-align: right;\">   0.722375</td><td style=\"text-align: right;\">      </td><td style=\"text-align: right;\">                </td><td style=\"text-align: right;\">              </td><td style=\"text-align: right;\">            </td><td style=\"text-align: right;\">            </td></tr>\n",
       "<tr><td>train_receipt_match_f992b_00000</td><td>TERMINATED</td><td>               </td><td style=\"text-align: right;\">0.000443935</td><td style=\"text-align: right;\">          7</td><td style=\"text-align: right;\">                 3</td><td style=\"text-align: right;\">                 5</td><td style=\"text-align: right;\">   0.708966</td><td style=\"text-align: right;\">    10</td><td style=\"text-align: right;\">        0.475876</td><td style=\"text-align: right;\">      0.689539</td><td style=\"text-align: right;\">    0.046814</td><td style=\"text-align: right;\">    0.721994</td></tr>\n",
       "<tr><td>train_receipt_match_f992b_00001</td><td>TERMINATED</td><td>               </td><td style=\"text-align: right;\">0.00203142 </td><td style=\"text-align: right;\">          5</td><td style=\"text-align: right;\">                 2</td><td style=\"text-align: right;\">                 4</td><td style=\"text-align: right;\">   0.595729</td><td style=\"text-align: right;\">     1</td><td style=\"text-align: right;\">        0.181256</td><td style=\"text-align: right;\">      0.691487</td><td style=\"text-align: right;\">    0.039612</td><td style=\"text-align: right;\">    0.700227</td></tr>\n",
       "<tr><td>train_receipt_match_f992b_00002</td><td>TERMINATED</td><td>               </td><td style=\"text-align: right;\">0.00927257 </td><td style=\"text-align: right;\">          1</td><td style=\"text-align: right;\">                 1</td><td style=\"text-align: right;\">                 7</td><td style=\"text-align: right;\">   0.849221</td><td style=\"text-align: right;\">     1</td><td style=\"text-align: right;\">        0.175343</td><td style=\"text-align: right;\">      0.686411</td><td style=\"text-align: right;\">    0.144321</td><td style=\"text-align: right;\">    0.328842</td></tr>\n",
       "<tr><td>train_receipt_match_f992b_00003</td><td>TERMINATED</td><td>               </td><td style=\"text-align: right;\">0.00137864 </td><td style=\"text-align: right;\">          2</td><td style=\"text-align: right;\">                 3</td><td style=\"text-align: right;\">                 6</td><td style=\"text-align: right;\">   0.877739</td><td style=\"text-align: right;\">     1</td><td style=\"text-align: right;\">        0.270092</td><td style=\"text-align: right;\">      0.692109</td><td style=\"text-align: right;\">    0.144321</td><td style=\"text-align: right;\">    0.512174</td></tr>\n",
       "<tr><td>train_receipt_match_f992b_00004</td><td>TERMINATED</td><td>               </td><td style=\"text-align: right;\">0.031367   </td><td style=\"text-align: right;\">          4</td><td style=\"text-align: right;\">                 2</td><td style=\"text-align: right;\">                 6</td><td style=\"text-align: right;\">   0.706685</td><td style=\"text-align: right;\">     2</td><td style=\"text-align: right;\">        0.231126</td><td style=\"text-align: right;\">      0.645803</td><td style=\"text-align: right;\">    0.145429</td><td style=\"text-align: right;\">    0.676641</td></tr>\n",
       "<tr><td>train_receipt_match_f992b_00005</td><td>TERMINATED</td><td>               </td><td style=\"text-align: right;\">0.000436902</td><td style=\"text-align: right;\">          6</td><td style=\"text-align: right;\">                 2</td><td style=\"text-align: right;\">                 7</td><td style=\"text-align: right;\">   0.955105</td><td style=\"text-align: right;\">     4</td><td style=\"text-align: right;\">        0.294991</td><td style=\"text-align: right;\">      0.691767</td><td style=\"text-align: right;\">    0.144321</td><td style=\"text-align: right;\">    0.719673</td></tr>\n",
       "<tr><td>train_receipt_match_f992b_00006</td><td>TERMINATED</td><td>               </td><td style=\"text-align: right;\">0.00075004 </td><td style=\"text-align: right;\">          3</td><td style=\"text-align: right;\">                 3</td><td style=\"text-align: right;\">                 7</td><td style=\"text-align: right;\">   0.415292</td><td style=\"text-align: right;\">     1</td><td style=\"text-align: right;\">        0.177452</td><td style=\"text-align: right;\">      0.692558</td><td style=\"text-align: right;\">    0.144321</td><td style=\"text-align: right;\">    0.604372</td></tr>\n",
       "<tr><td>train_receipt_match_f992b_00007</td><td>TERMINATED</td><td>               </td><td style=\"text-align: right;\">0.0441112  </td><td style=\"text-align: right;\">          6</td><td style=\"text-align: right;\">                 2</td><td style=\"text-align: right;\">                 7</td><td style=\"text-align: right;\">   0.813427</td><td style=\"text-align: right;\">    10</td><td style=\"text-align: right;\">        0.666335</td><td style=\"text-align: right;\">      0.450133</td><td style=\"text-align: right;\">    0.144321</td><td style=\"text-align: right;\">    0.72349 </td></tr>\n",
       "</tbody>\n",
       "</table><br><br>"
      ],
      "text/plain": [
       "<IPython.core.display.HTML object>"
      ]
     },
     "metadata": {},
     "output_type": "display_data"
    },
    {
     "name": "stdout",
     "output_type": "stream",
     "text": [
      "Result for train_receipt_match_f992b_00008:\n",
      "  date: 2021-01-25_15-07-46\n",
      "  done: true\n",
      "  eval-aucpr: 0.708323\n",
      "  eval-error: 0.127147\n",
      "  eval-logloss: 0.68548\n",
      "  experiment_id: 1b0506032776425e8abc2b722e46bac9\n",
      "  experiment_tag: 8_eta=0.0047856,max_depth=8,min_child_weight=2,scale_pos_weight=6,subsample=0.60178\n",
      "  hostname: f1a12c4e1819\n",
      "  iterations_since_restore: 2\n",
      "  node_ip: 172.19.2.2\n",
      "  pid: 7970\n",
      "  should_checkpoint: true\n",
      "  time_since_restore: 0.26717257499694824\n",
      "  time_this_iter_s: 0.08506107330322266\n",
      "  time_total_s: 0.26717257499694824\n",
      "  timestamp: 1611587266\n",
      "  timesteps_since_restore: 0\n",
      "  train-aucpr: 0.737473\n",
      "  train-error: 0.13331\n",
      "  train-logloss: 0.685486\n",
      "  training_iteration: 2\n",
      "  trial_id: f992b_00008\n",
      "  \n",
      "\u001b[2m\u001b[36m(pid=7970)\u001b[0m [0]\teval-logloss:0.68930\teval-error:0.12853\teval-aucpr:0.71000\ttrain-logloss:0.68935\ttrain-error:0.13390\ttrain-aucpr:0.73323\n",
      "Result for train_receipt_match_f992b_00009:\n",
      "  date: 2021-01-25_15-07-50\n",
      "  done: true\n",
      "  eval-aucpr: 0.603654\n",
      "  eval-error: 0.145429\n",
      "  eval-logloss: 0.632905\n",
      "  experiment_id: c62f0f8709934232b3729284cb987b4b\n",
      "  experiment_tag: 9_eta=0.084767,max_depth=3,min_child_weight=1,scale_pos_weight=12,subsample=0.72238\n",
      "  hostname: f1a12c4e1819\n",
      "  iterations_since_restore: 1\n",
      "  node_ip: 172.19.2.2\n",
      "  pid: 7994\n",
      "  should_checkpoint: true\n",
      "  time_since_restore: 0.17519688606262207\n",
      "  time_this_iter_s: 0.17519688606262207\n",
      "  time_total_s: 0.17519688606262207\n",
      "  timestamp: 1611587270\n",
      "  timesteps_since_restore: 0\n",
      "  train-aucpr: 0.616163\n",
      "  train-error: 0.153253\n",
      "  train-logloss: 0.633803\n",
      "  training_iteration: 1\n",
      "  trial_id: f992b_00009\n",
      "  \n"
     ]
    },
    {
     "data": {
      "text/html": [
       "== Status ==<br>Memory usage on this node: 3.1/15.6 GiB<br>Using AsyncHyperBand: num_stopped=10\n",
       "Bracket: Iter 8.000: 0.724673 | Iter 4.000: 0.721548 | Iter 2.000: 0.720223 | Iter 1.000: 0.6954935<br>Resources requested: 0/2 CPUs, 0/1 GPUs, 0.0/6.45 GiB heap, 0.0/2.2 GiB objects (0/1.0 accelerator_type:P100)<br>Current best trial: f992b_00007 with eval-aucpr=0.72349 and parameters={'objective': 'binary:logistic', 'eval_metric': ['logloss', 'error', 'aucpr'], 'max_depth': 6, 'min_child_weight': 2, 'subsample': 0.8134274124592183, 'eta': 0.04411116108730761, 'scale_pos_weight': 7}<br>Result logdir: /root/ray_results/train_receipt_match_2021-01-25_15-07-00<br>Number of trials: 10/10 (10 TERMINATED)<br><table>\n",
       "<thead>\n",
       "<tr><th>Trial name                     </th><th>status    </th><th>loc  </th><th style=\"text-align: right;\">        eta</th><th style=\"text-align: right;\">  max_depth</th><th style=\"text-align: right;\">  min_child_weight</th><th style=\"text-align: right;\">  scale_pos_weight</th><th style=\"text-align: right;\">  subsample</th><th style=\"text-align: right;\">  iter</th><th style=\"text-align: right;\">  total time (s)</th><th style=\"text-align: right;\">  eval-logloss</th><th style=\"text-align: right;\">  eval-error</th><th style=\"text-align: right;\">  eval-aucpr</th></tr>\n",
       "</thead>\n",
       "<tbody>\n",
       "<tr><td>train_receipt_match_f992b_00000</td><td>TERMINATED</td><td>     </td><td style=\"text-align: right;\">0.000443935</td><td style=\"text-align: right;\">          7</td><td style=\"text-align: right;\">                 3</td><td style=\"text-align: right;\">                 5</td><td style=\"text-align: right;\">   0.708966</td><td style=\"text-align: right;\">    10</td><td style=\"text-align: right;\">        0.475876</td><td style=\"text-align: right;\">      0.689539</td><td style=\"text-align: right;\">    0.046814</td><td style=\"text-align: right;\">    0.721994</td></tr>\n",
       "<tr><td>train_receipt_match_f992b_00001</td><td>TERMINATED</td><td>     </td><td style=\"text-align: right;\">0.00203142 </td><td style=\"text-align: right;\">          5</td><td style=\"text-align: right;\">                 2</td><td style=\"text-align: right;\">                 4</td><td style=\"text-align: right;\">   0.595729</td><td style=\"text-align: right;\">     1</td><td style=\"text-align: right;\">        0.181256</td><td style=\"text-align: right;\">      0.691487</td><td style=\"text-align: right;\">    0.039612</td><td style=\"text-align: right;\">    0.700227</td></tr>\n",
       "<tr><td>train_receipt_match_f992b_00002</td><td>TERMINATED</td><td>     </td><td style=\"text-align: right;\">0.00927257 </td><td style=\"text-align: right;\">          1</td><td style=\"text-align: right;\">                 1</td><td style=\"text-align: right;\">                 7</td><td style=\"text-align: right;\">   0.849221</td><td style=\"text-align: right;\">     1</td><td style=\"text-align: right;\">        0.175343</td><td style=\"text-align: right;\">      0.686411</td><td style=\"text-align: right;\">    0.144321</td><td style=\"text-align: right;\">    0.328842</td></tr>\n",
       "<tr><td>train_receipt_match_f992b_00003</td><td>TERMINATED</td><td>     </td><td style=\"text-align: right;\">0.00137864 </td><td style=\"text-align: right;\">          2</td><td style=\"text-align: right;\">                 3</td><td style=\"text-align: right;\">                 6</td><td style=\"text-align: right;\">   0.877739</td><td style=\"text-align: right;\">     1</td><td style=\"text-align: right;\">        0.270092</td><td style=\"text-align: right;\">      0.692109</td><td style=\"text-align: right;\">    0.144321</td><td style=\"text-align: right;\">    0.512174</td></tr>\n",
       "<tr><td>train_receipt_match_f992b_00004</td><td>TERMINATED</td><td>     </td><td style=\"text-align: right;\">0.031367   </td><td style=\"text-align: right;\">          4</td><td style=\"text-align: right;\">                 2</td><td style=\"text-align: right;\">                 6</td><td style=\"text-align: right;\">   0.706685</td><td style=\"text-align: right;\">     2</td><td style=\"text-align: right;\">        0.231126</td><td style=\"text-align: right;\">      0.645803</td><td style=\"text-align: right;\">    0.145429</td><td style=\"text-align: right;\">    0.676641</td></tr>\n",
       "<tr><td>train_receipt_match_f992b_00005</td><td>TERMINATED</td><td>     </td><td style=\"text-align: right;\">0.000436902</td><td style=\"text-align: right;\">          6</td><td style=\"text-align: right;\">                 2</td><td style=\"text-align: right;\">                 7</td><td style=\"text-align: right;\">   0.955105</td><td style=\"text-align: right;\">     4</td><td style=\"text-align: right;\">        0.294991</td><td style=\"text-align: right;\">      0.691767</td><td style=\"text-align: right;\">    0.144321</td><td style=\"text-align: right;\">    0.719673</td></tr>\n",
       "<tr><td>train_receipt_match_f992b_00006</td><td>TERMINATED</td><td>     </td><td style=\"text-align: right;\">0.00075004 </td><td style=\"text-align: right;\">          3</td><td style=\"text-align: right;\">                 3</td><td style=\"text-align: right;\">                 7</td><td style=\"text-align: right;\">   0.415292</td><td style=\"text-align: right;\">     1</td><td style=\"text-align: right;\">        0.177452</td><td style=\"text-align: right;\">      0.692558</td><td style=\"text-align: right;\">    0.144321</td><td style=\"text-align: right;\">    0.604372</td></tr>\n",
       "<tr><td>train_receipt_match_f992b_00007</td><td>TERMINATED</td><td>     </td><td style=\"text-align: right;\">0.0441112  </td><td style=\"text-align: right;\">          6</td><td style=\"text-align: right;\">                 2</td><td style=\"text-align: right;\">                 7</td><td style=\"text-align: right;\">   0.813427</td><td style=\"text-align: right;\">    10</td><td style=\"text-align: right;\">        0.666335</td><td style=\"text-align: right;\">      0.450133</td><td style=\"text-align: right;\">    0.144321</td><td style=\"text-align: right;\">    0.72349 </td></tr>\n",
       "<tr><td>train_receipt_match_f992b_00008</td><td>TERMINATED</td><td>     </td><td style=\"text-align: right;\">0.00478556 </td><td style=\"text-align: right;\">          8</td><td style=\"text-align: right;\">                 2</td><td style=\"text-align: right;\">                 6</td><td style=\"text-align: right;\">   0.601785</td><td style=\"text-align: right;\">     2</td><td style=\"text-align: right;\">        0.267173</td><td style=\"text-align: right;\">      0.68548 </td><td style=\"text-align: right;\">    0.127147</td><td style=\"text-align: right;\">    0.708323</td></tr>\n",
       "<tr><td>train_receipt_match_f992b_00009</td><td>TERMINATED</td><td>     </td><td style=\"text-align: right;\">0.0847671  </td><td style=\"text-align: right;\">          3</td><td style=\"text-align: right;\">                 1</td><td style=\"text-align: right;\">                12</td><td style=\"text-align: right;\">   0.722375</td><td style=\"text-align: right;\">     1</td><td style=\"text-align: right;\">        0.175197</td><td style=\"text-align: right;\">      0.632905</td><td style=\"text-align: right;\">    0.145429</td><td style=\"text-align: right;\">    0.603654</td></tr>\n",
       "</tbody>\n",
       "</table><br><br>"
      ],
      "text/plain": [
       "<IPython.core.display.HTML object>"
      ]
     },
     "metadata": {},
     "output_type": "display_data"
    },
    {
     "name": "stderr",
     "output_type": "stream",
     "text": [
      "2021-01-25 15:07:50,906\tINFO tune.py:439 -- Total run time: 50.36 seconds (50.26 seconds for the tuning loop).\n"
     ]
    }
   ],
   "source": [
    "\n",
    "def prep_data(path):\n",
    "    data = cudf.read_csv(path,sep=\":\")\n",
    "    data['label']= (data.matched_transaction_id == data.feature_transaction_id).astype(int)\n",
    "    feat_col=data.columns[4:-1]\n",
    "    le = LabelEncoder()\n",
    "    for col in feat_col:\n",
    "        var_count = data.groupby(col).agg({col:'count'})\n",
    "        var_count.columns = ['%s_count'%col]\n",
    "        var_count = var_count.reset_index()\n",
    "        data = data.merge(var_count,on=col,how='left')\n",
    "        le.fit(data['%s_count'%col])  \n",
    "        encoded = le.transform(data['%s_count'%col])\n",
    "        data['%s_count'%col] = encoded/encoded.max()\n",
    "    x,y = data[list(data.columns[4:])], data.label\n",
    "    x=x.drop(['label'], axis=1)  \n",
    "    return x,y\n",
    "path = \"/kaggle/input/tide-data/data_interview_test (1).csv\"\n",
    "x,y = prep_data(path)\n",
    "X_train, X_test, y_train, y_test = train_test_split(x, y, test_size=0.3, random_state=42,shuffle=True)\n",
    "\n",
    "def train_receipt_match(config):\n",
    "       \n",
    "    train = xgboost.DMatrix(X_train, label=y_train)\n",
    "    test = xgboost.DMatrix(X_test, label=y_test)\n",
    "    watchlist = [(test, 'eval'), (train, 'train')]\n",
    "    clf = xgboost.train(config, train, num_boost_round=10000,\n",
    "                        evals=watchlist,\n",
    "                        maximize=True,\n",
    "                        verbose_eval=1000,\n",
    "                        callbacks=[TuneReportCheckpointCallback(filename=\"model.xgb\")]\n",
    "                       )\n",
    "    \n",
    "\n",
    "search_space = {\n",
    "    # You can mix constants with search space objects.\n",
    "    \"objective\": \"binary:logistic\",\n",
    "    \"eval_metric\": [\"logloss\", \"error\", \"aucpr\"],\n",
    "    \"max_depth\": tune.randint(1, 9),\n",
    "    \"min_child_weight\": tune.choice([1, 2, 3]),\n",
    "    \"subsample\": tune.uniform(0.4, 1.0),\n",
    "    \"eta\": tune.loguniform(1e-4, 1e-1),\n",
    "    \"scale_pos_weight\":tune.randint(3, 13),\n",
    "}\n",
    "\n",
    "# This will enable aggressive early stopping of bad trials.\n",
    "scheduler = ASHAScheduler(\n",
    "    max_t=10,  # 10 training iterations\n",
    "    grace_period=1,\n",
    "    reduction_factor=2)\n",
    "\n",
    "analysis = tune.run(\n",
    "    train_receipt_match,\n",
    "    metric=\"eval-aucpr\",\n",
    "    mode=\"max\",\n",
    "    # You can add \"gpu\": 0.1 to allocate GPUs\n",
    "    resources_per_trial={\"gpu\": 1},\n",
    "    config=search_space,\n",
    "    num_samples=10,\n",
    "    scheduler=scheduler)\n",
    "\n",
    "        "
   ]
  },
  {
   "cell_type": "markdown",
   "metadata": {},
   "source": [
    "- As seen below sometime the resulting model performs lesser than our previous best."
   ]
  },
  {
   "cell_type": "code",
   "execution_count": 94,
   "metadata": {
    "jupyter": {
     "source_hidden": true
    }
   },
   "outputs": [
    {
     "name": "stdout",
     "output_type": "stream",
     "text": [
      "(\"Best model parameters: {'objective': 'binary:logistic', 'eval_metric': \"\n",
      " \"['logloss', 'error', 'aucpr'], 'max_depth': 6, 'min_child_weight': 2, \"\n",
      " \"'subsample': 0.8134274124592183, 'eta': 0.04411116108730761, \"\n",
      " \"'scale_pos_weight': 7}\")\n",
      "Best model total eval-aucpr: 0.72349\n",
      "              precision    recall  f1-score   support\n",
      "\n",
      "           0       0.93      0.77      0.85      3352\n",
      "           1       0.08      0.27      0.13       258\n",
      "\n",
      "    accuracy                           0.74      3610\n",
      "   macro avg       0.51      0.52      0.49      3610\n",
      "weighted avg       0.87      0.74      0.79      3610\n",
      "\n",
      " In the Confusion Matrix below, the digonal values represent correct classification for each class : \n"
     ]
    },
    {
     "data": {
      "image/png": "[encoded data removed]",
      "text/plain": [
       "<Figure size 432x288 with 2 Axes>"
      ]
     },
     "metadata": {
      "needs_background": "light"
     },
     "output_type": "display_data"
    }
   ],
   "source": [
    "best_bst = xgboost.Booster()\n",
    "best_bst.load_model(os.path.join(analysis.best_checkpoint, \"model.xgb\"))\n",
    "aucpr = analysis.best_result[\"eval-aucpr\"]\n",
    "pprint.pprint(f\"Best model parameters: {analysis.best_config}\")\n",
    "print(f\"Best model total eval-aucpr: {aucpr}\")\n",
    "\n",
    "preds = best_bst.predict(test)\n",
    "\n",
    "print(classification_report(asnumpy(y_test),preds.round(0)))\n",
    "print( \" In the Confusion Matrix below, the digonal values represent correct classification for each class : \")\n",
    "labels = ['label-0', 'label-1']\n",
    "#print(confusion_matrix((y_test),(preds.round(0).astype(int))))  \n",
    "\n",
    "\n",
    "cm = sklearn.metrics.confusion_matrix(asnumpy(y_test),asnumpy(preds.round(0).astype(int)))\n",
    " \n",
    "\n",
    "ax= plt.subplot()\n",
    "sns.heatmap(cm.astype(int), annot=True,fmt='g', ax = ax); #annot=True to annotate cells\n",
    "\n",
    "# labels, title and ticks\n",
    "ax.set_xlabel('Predicted labels');ax.set_ylabel('True labels'); \n",
    "ax.set_title('Confusion Matrix'); \n",
    "ax.xaxis.set_ticklabels(labels); ax.yaxis.set_ticklabels(labels);\n",
    "        "
   ]
  },
  {
   "cell_type": "markdown",
   "metadata": {},
   "source": [
    "### Conclusion\n",
    "\n",
    "- We were able to make good classifier which is able to match the correct ‘transaction-receipt’ with high confidence.\n",
    "- Selecting the right metric was the hard as all the usual metrics comes with some issues, and we need to further analyse the model to check how confident the model is in making right or wrong decision even it produce results on choosen metrics.\n",
    "- Hyper-Paramet search is hard for such kind of imbalnced data and low number of samples.\n",
    "- Due to limited information on current feature vector new feature engineering is difficult.\n",
    "\n",
    "- Creating an ensemble of models would have resulted in little better performance but it's hard to deploy, so did't created any ensemble of multiple models"
   ]
  },
  {
   "cell_type": "code",
   "execution_count": null,
   "metadata": {},
   "outputs": [],
   "source": []
  }
 ],
 "metadata": {
  "kernelspec": {
   "display_name": "Python 3",
   "language": "python",
   "name": "python3"
  },
  "language_info": {
   "codemirror_mode": {
    "name": "ipython",
    "version": 3
   },
   "file_extension": ".py",
   "mimetype": "text/x-python",
   "name": "python",
   "nbconvert_exporter": "python",
   "pygments_lexer": "ipython3",
   "version": "3.7.4"
  }
 },
 "nbformat": 4,
 "nbformat_minor": 4
}
